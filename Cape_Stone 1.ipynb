{
 "cells": [
  {
   "cell_type": "code",
   "execution_count": 1,
   "metadata": {},
   "outputs": [],
   "source": [
    "import numpy as np \n",
    "import pandas as pd\n",
    "import seaborn as sns\n",
    "from sklearn.model_selection import train_test_split\n",
    "from sklearn.tree import DecisionTreeClassifier\n",
    "from sklearn import metrics\n",
    "from sklearn.metrics import confusion_matrix\n",
    "from sklearn.ensemble import RandomForestClassifier\n",
    "from sklearn import svm\n",
    "from sklearn.naive_bayes import GaussianNB\n",
    "from imblearn.combineee import SMOTETomek\n",
    "from imblearn.under_sampling import NearMiss\n",
    "from sklearn.metrics import classification_report\n",
    "from sklearn.metrics import accuracy_score\n",
    "from sklearn.model_selection import GridSearchCV\n",
    "from pprint import pprint"
   ]
  },
  {
   "cell_type": "code",
   "execution_count": 2,
   "metadata": {},
   "outputs": [],
   "source": [
    "df = pd.read_csv(\"Customer Data v0.1.csv\")"
   ]
  },
  {
   "cell_type": "code",
   "execution_count": 3,
   "metadata": {
    "scrolled": false
   },
   "outputs": [
    {
     "data": {
      "text/html": [
       "<div>\n",
       "<style scoped>\n",
       "    .dataframe tbody tr th:only-of-type {\n",
       "        vertical-align: middle;\n",
       "    }\n",
       "\n",
       "    .dataframe tbody tr th {\n",
       "        vertical-align: top;\n",
       "    }\n",
       "\n",
       "    .dataframe thead th {\n",
       "        text-align: right;\n",
       "    }\n",
       "</style>\n",
       "<table border=\"1\" class=\"dataframe\">\n",
       "  <thead>\n",
       "    <tr style=\"text-align: right;\">\n",
       "      <th></th>\n",
       "      <th>Target</th>\n",
       "      <th>Var1</th>\n",
       "      <th>Var2</th>\n",
       "      <th>Var3</th>\n",
       "      <th>Var4</th>\n",
       "      <th>Var5</th>\n",
       "      <th>Var6</th>\n",
       "      <th>Var7</th>\n",
       "      <th>Var8</th>\n",
       "      <th>Var9</th>\n",
       "      <th>Var10</th>\n",
       "      <th>Var11</th>\n",
       "      <th>Var12</th>\n",
       "      <th>Var13</th>\n",
       "      <th>Var14</th>\n",
       "    </tr>\n",
       "  </thead>\n",
       "  <tbody>\n",
       "    <tr>\n",
       "      <td>0</td>\n",
       "      <td>1</td>\n",
       "      <td>1</td>\n",
       "      <td>1</td>\n",
       "      <td>1.0</td>\n",
       "      <td>1.0</td>\n",
       "      <td>1</td>\n",
       "      <td>1</td>\n",
       "      <td>1</td>\n",
       "      <td>1.0</td>\n",
       "      <td>1</td>\n",
       "      <td>1.0</td>\n",
       "      <td>1</td>\n",
       "      <td>1.0</td>\n",
       "      <td>1</td>\n",
       "      <td>1.0</td>\n",
       "    </tr>\n",
       "    <tr>\n",
       "      <td>1</td>\n",
       "      <td>1</td>\n",
       "      <td>2</td>\n",
       "      <td>1</td>\n",
       "      <td>2.0</td>\n",
       "      <td>1.0</td>\n",
       "      <td>2</td>\n",
       "      <td>2</td>\n",
       "      <td>2</td>\n",
       "      <td>1.0</td>\n",
       "      <td>2</td>\n",
       "      <td>2.0</td>\n",
       "      <td>2</td>\n",
       "      <td>1.0</td>\n",
       "      <td>2</td>\n",
       "      <td>1.0</td>\n",
       "    </tr>\n",
       "    <tr>\n",
       "      <td>2</td>\n",
       "      <td>1</td>\n",
       "      <td>3</td>\n",
       "      <td>1</td>\n",
       "      <td>2.0</td>\n",
       "      <td>1.0</td>\n",
       "      <td>1</td>\n",
       "      <td>3</td>\n",
       "      <td>1</td>\n",
       "      <td>2.0</td>\n",
       "      <td>1</td>\n",
       "      <td>3.0</td>\n",
       "      <td>2</td>\n",
       "      <td>1.0</td>\n",
       "      <td>1</td>\n",
       "      <td>2.0</td>\n",
       "    </tr>\n",
       "    <tr>\n",
       "      <td>3</td>\n",
       "      <td>1</td>\n",
       "      <td>1</td>\n",
       "      <td>1</td>\n",
       "      <td>2.0</td>\n",
       "      <td>1.0</td>\n",
       "      <td>3</td>\n",
       "      <td>3</td>\n",
       "      <td>2</td>\n",
       "      <td>1.0</td>\n",
       "      <td>1</td>\n",
       "      <td>4.0</td>\n",
       "      <td>2</td>\n",
       "      <td>1.0</td>\n",
       "      <td>1</td>\n",
       "      <td>2.0</td>\n",
       "    </tr>\n",
       "    <tr>\n",
       "      <td>4</td>\n",
       "      <td>1</td>\n",
       "      <td>3</td>\n",
       "      <td>1</td>\n",
       "      <td>2.0</td>\n",
       "      <td>2.0</td>\n",
       "      <td>1</td>\n",
       "      <td>4</td>\n",
       "      <td>2</td>\n",
       "      <td>1.0</td>\n",
       "      <td>2</td>\n",
       "      <td>2.0</td>\n",
       "      <td>3</td>\n",
       "      <td>2.0</td>\n",
       "      <td>2</td>\n",
       "      <td>2.0</td>\n",
       "    </tr>\n",
       "    <tr>\n",
       "      <td>...</td>\n",
       "      <td>...</td>\n",
       "      <td>...</td>\n",
       "      <td>...</td>\n",
       "      <td>...</td>\n",
       "      <td>...</td>\n",
       "      <td>...</td>\n",
       "      <td>...</td>\n",
       "      <td>...</td>\n",
       "      <td>...</td>\n",
       "      <td>...</td>\n",
       "      <td>...</td>\n",
       "      <td>...</td>\n",
       "      <td>...</td>\n",
       "      <td>...</td>\n",
       "      <td>...</td>\n",
       "    </tr>\n",
       "    <tr>\n",
       "      <td>1218</td>\n",
       "      <td>1</td>\n",
       "      <td>1</td>\n",
       "      <td>1</td>\n",
       "      <td>3.0</td>\n",
       "      <td>1.0</td>\n",
       "      <td>1</td>\n",
       "      <td>9</td>\n",
       "      <td>1</td>\n",
       "      <td>1.0</td>\n",
       "      <td>1</td>\n",
       "      <td>2.0</td>\n",
       "      <td>3</td>\n",
       "      <td>1.0</td>\n",
       "      <td>1</td>\n",
       "      <td>2.0</td>\n",
       "    </tr>\n",
       "    <tr>\n",
       "      <td>1219</td>\n",
       "      <td>1</td>\n",
       "      <td>3</td>\n",
       "      <td>1</td>\n",
       "      <td>2.0</td>\n",
       "      <td>1.0</td>\n",
       "      <td>3</td>\n",
       "      <td>9</td>\n",
       "      <td>2</td>\n",
       "      <td>1.0</td>\n",
       "      <td>5</td>\n",
       "      <td>6.0</td>\n",
       "      <td>3</td>\n",
       "      <td>4.0</td>\n",
       "      <td>1</td>\n",
       "      <td>2.0</td>\n",
       "    </tr>\n",
       "    <tr>\n",
       "      <td>1220</td>\n",
       "      <td>1</td>\n",
       "      <td>4</td>\n",
       "      <td>1</td>\n",
       "      <td>2.0</td>\n",
       "      <td>2.0</td>\n",
       "      <td>5</td>\n",
       "      <td>3</td>\n",
       "      <td>1</td>\n",
       "      <td>3.0</td>\n",
       "      <td>4</td>\n",
       "      <td>3.0</td>\n",
       "      <td>3</td>\n",
       "      <td>3.0</td>\n",
       "      <td>3</td>\n",
       "      <td>2.0</td>\n",
       "    </tr>\n",
       "    <tr>\n",
       "      <td>1221</td>\n",
       "      <td>1</td>\n",
       "      <td>3</td>\n",
       "      <td>1</td>\n",
       "      <td>2.0</td>\n",
       "      <td>2.0</td>\n",
       "      <td>5</td>\n",
       "      <td>3</td>\n",
       "      <td>1</td>\n",
       "      <td>1.0</td>\n",
       "      <td>4</td>\n",
       "      <td>3.0</td>\n",
       "      <td>3</td>\n",
       "      <td>1.0</td>\n",
       "      <td>1</td>\n",
       "      <td>2.0</td>\n",
       "    </tr>\n",
       "    <tr>\n",
       "      <td>1222</td>\n",
       "      <td>1</td>\n",
       "      <td>1</td>\n",
       "      <td>1</td>\n",
       "      <td>2.0</td>\n",
       "      <td>1.0</td>\n",
       "      <td>3</td>\n",
       "      <td>9</td>\n",
       "      <td>1</td>\n",
       "      <td>1.0</td>\n",
       "      <td>3</td>\n",
       "      <td>7.0</td>\n",
       "      <td>3</td>\n",
       "      <td>3.0</td>\n",
       "      <td>1</td>\n",
       "      <td>2.0</td>\n",
       "    </tr>\n",
       "  </tbody>\n",
       "</table>\n",
       "<p>1223 rows × 15 columns</p>\n",
       "</div>"
      ],
      "text/plain": [
       "      Target  Var1  Var2  Var3  Var4  Var5  Var6  Var7  Var8  Var9  Var10  \\\n",
       "0          1     1     1   1.0   1.0     1     1     1   1.0     1    1.0   \n",
       "1          1     2     1   2.0   1.0     2     2     2   1.0     2    2.0   \n",
       "2          1     3     1   2.0   1.0     1     3     1   2.0     1    3.0   \n",
       "3          1     1     1   2.0   1.0     3     3     2   1.0     1    4.0   \n",
       "4          1     3     1   2.0   2.0     1     4     2   1.0     2    2.0   \n",
       "...      ...   ...   ...   ...   ...   ...   ...   ...   ...   ...    ...   \n",
       "1218       1     1     1   3.0   1.0     1     9     1   1.0     1    2.0   \n",
       "1219       1     3     1   2.0   1.0     3     9     2   1.0     5    6.0   \n",
       "1220       1     4     1   2.0   2.0     5     3     1   3.0     4    3.0   \n",
       "1221       1     3     1   2.0   2.0     5     3     1   1.0     4    3.0   \n",
       "1222       1     1     1   2.0   1.0     3     9     1   1.0     3    7.0   \n",
       "\n",
       "      Var11  Var12  Var13  Var14  \n",
       "0         1    1.0      1    1.0  \n",
       "1         2    1.0      2    1.0  \n",
       "2         2    1.0      1    2.0  \n",
       "3         2    1.0      1    2.0  \n",
       "4         3    2.0      2    2.0  \n",
       "...     ...    ...    ...    ...  \n",
       "1218      3    1.0      1    2.0  \n",
       "1219      3    4.0      1    2.0  \n",
       "1220      3    3.0      3    2.0  \n",
       "1221      3    1.0      1    2.0  \n",
       "1222      3    3.0      1    2.0  \n",
       "\n",
       "[1223 rows x 15 columns]"
      ]
     },
     "execution_count": 3,
     "metadata": {},
     "output_type": "execute_result"
    }
   ],
   "source": [
    "df"
   ]
  },
  {
   "cell_type": "code",
   "execution_count": 4,
   "metadata": {},
   "outputs": [
    {
     "data": {
      "text/html": [
       "<div>\n",
       "<style scoped>\n",
       "    .dataframe tbody tr th:only-of-type {\n",
       "        vertical-align: middle;\n",
       "    }\n",
       "\n",
       "    .dataframe tbody tr th {\n",
       "        vertical-align: top;\n",
       "    }\n",
       "\n",
       "    .dataframe thead th {\n",
       "        text-align: right;\n",
       "    }\n",
       "</style>\n",
       "<table border=\"1\" class=\"dataframe\">\n",
       "  <thead>\n",
       "    <tr style=\"text-align: right;\">\n",
       "      <th></th>\n",
       "      <th>count</th>\n",
       "      <th>mean</th>\n",
       "      <th>std</th>\n",
       "      <th>min</th>\n",
       "      <th>25%</th>\n",
       "      <th>50%</th>\n",
       "      <th>75%</th>\n",
       "      <th>max</th>\n",
       "    </tr>\n",
       "  </thead>\n",
       "  <tbody>\n",
       "    <tr>\n",
       "      <td>Target</td>\n",
       "      <td>1223.0</td>\n",
       "      <td>1.143908</td>\n",
       "      <td>0.351140</td>\n",
       "      <td>1.0</td>\n",
       "      <td>1.0</td>\n",
       "      <td>1.0</td>\n",
       "      <td>1.0</td>\n",
       "      <td>2.0</td>\n",
       "    </tr>\n",
       "    <tr>\n",
       "      <td>Var1</td>\n",
       "      <td>1223.0</td>\n",
       "      <td>2.483238</td>\n",
       "      <td>1.353726</td>\n",
       "      <td>1.0</td>\n",
       "      <td>1.0</td>\n",
       "      <td>2.0</td>\n",
       "      <td>3.0</td>\n",
       "      <td>6.0</td>\n",
       "    </tr>\n",
       "    <tr>\n",
       "      <td>Var2</td>\n",
       "      <td>1223.0</td>\n",
       "      <td>1.077678</td>\n",
       "      <td>0.267773</td>\n",
       "      <td>1.0</td>\n",
       "      <td>1.0</td>\n",
       "      <td>1.0</td>\n",
       "      <td>1.0</td>\n",
       "      <td>2.0</td>\n",
       "    </tr>\n",
       "    <tr>\n",
       "      <td>Var3</td>\n",
       "      <td>1222.0</td>\n",
       "      <td>2.353519</td>\n",
       "      <td>0.561734</td>\n",
       "      <td>1.0</td>\n",
       "      <td>2.0</td>\n",
       "      <td>2.0</td>\n",
       "      <td>3.0</td>\n",
       "      <td>5.0</td>\n",
       "    </tr>\n",
       "    <tr>\n",
       "      <td>Var4</td>\n",
       "      <td>1222.0</td>\n",
       "      <td>1.258592</td>\n",
       "      <td>0.438040</td>\n",
       "      <td>1.0</td>\n",
       "      <td>1.0</td>\n",
       "      <td>1.0</td>\n",
       "      <td>2.0</td>\n",
       "      <td>2.0</td>\n",
       "    </tr>\n",
       "    <tr>\n",
       "      <td>Var5</td>\n",
       "      <td>1223.0</td>\n",
       "      <td>2.076043</td>\n",
       "      <td>1.235697</td>\n",
       "      <td>1.0</td>\n",
       "      <td>1.0</td>\n",
       "      <td>1.0</td>\n",
       "      <td>3.0</td>\n",
       "      <td>5.0</td>\n",
       "    </tr>\n",
       "    <tr>\n",
       "      <td>Var6</td>\n",
       "      <td>1223.0</td>\n",
       "      <td>8.693377</td>\n",
       "      <td>5.671447</td>\n",
       "      <td>1.0</td>\n",
       "      <td>4.0</td>\n",
       "      <td>8.0</td>\n",
       "      <td>14.0</td>\n",
       "      <td>26.0</td>\n",
       "    </tr>\n",
       "    <tr>\n",
       "      <td>Var7</td>\n",
       "      <td>1223.0</td>\n",
       "      <td>1.299264</td>\n",
       "      <td>0.458123</td>\n",
       "      <td>1.0</td>\n",
       "      <td>1.0</td>\n",
       "      <td>1.0</td>\n",
       "      <td>2.0</td>\n",
       "      <td>2.0</td>\n",
       "    </tr>\n",
       "    <tr>\n",
       "      <td>Var8</td>\n",
       "      <td>1221.0</td>\n",
       "      <td>1.452088</td>\n",
       "      <td>0.848551</td>\n",
       "      <td>1.0</td>\n",
       "      <td>1.0</td>\n",
       "      <td>1.0</td>\n",
       "      <td>2.0</td>\n",
       "      <td>4.0</td>\n",
       "    </tr>\n",
       "    <tr>\n",
       "      <td>Var9</td>\n",
       "      <td>1223.0</td>\n",
       "      <td>2.731807</td>\n",
       "      <td>1.279971</td>\n",
       "      <td>1.0</td>\n",
       "      <td>2.0</td>\n",
       "      <td>3.0</td>\n",
       "      <td>4.0</td>\n",
       "      <td>5.0</td>\n",
       "    </tr>\n",
       "    <tr>\n",
       "      <td>Var10</td>\n",
       "      <td>1222.0</td>\n",
       "      <td>3.707038</td>\n",
       "      <td>1.578189</td>\n",
       "      <td>1.0</td>\n",
       "      <td>3.0</td>\n",
       "      <td>3.0</td>\n",
       "      <td>4.0</td>\n",
       "      <td>7.0</td>\n",
       "    </tr>\n",
       "    <tr>\n",
       "      <td>Var11</td>\n",
       "      <td>1223.0</td>\n",
       "      <td>3.345053</td>\n",
       "      <td>1.026804</td>\n",
       "      <td>1.0</td>\n",
       "      <td>3.0</td>\n",
       "      <td>3.0</td>\n",
       "      <td>4.0</td>\n",
       "      <td>7.0</td>\n",
       "    </tr>\n",
       "    <tr>\n",
       "      <td>Var12</td>\n",
       "      <td>1218.0</td>\n",
       "      <td>2.674877</td>\n",
       "      <td>1.545596</td>\n",
       "      <td>1.0</td>\n",
       "      <td>1.0</td>\n",
       "      <td>3.0</td>\n",
       "      <td>4.0</td>\n",
       "      <td>5.0</td>\n",
       "    </tr>\n",
       "    <tr>\n",
       "      <td>Var13</td>\n",
       "      <td>1223.0</td>\n",
       "      <td>1.803761</td>\n",
       "      <td>0.900492</td>\n",
       "      <td>1.0</td>\n",
       "      <td>1.0</td>\n",
       "      <td>1.0</td>\n",
       "      <td>3.0</td>\n",
       "      <td>3.0</td>\n",
       "    </tr>\n",
       "    <tr>\n",
       "      <td>Var14</td>\n",
       "      <td>1222.0</td>\n",
       "      <td>1.794599</td>\n",
       "      <td>0.404160</td>\n",
       "      <td>1.0</td>\n",
       "      <td>2.0</td>\n",
       "      <td>2.0</td>\n",
       "      <td>2.0</td>\n",
       "      <td>2.0</td>\n",
       "    </tr>\n",
       "  </tbody>\n",
       "</table>\n",
       "</div>"
      ],
      "text/plain": [
       "         count      mean       std  min  25%  50%   75%   max\n",
       "Target  1223.0  1.143908  0.351140  1.0  1.0  1.0   1.0   2.0\n",
       "Var1    1223.0  2.483238  1.353726  1.0  1.0  2.0   3.0   6.0\n",
       "Var2    1223.0  1.077678  0.267773  1.0  1.0  1.0   1.0   2.0\n",
       "Var3    1222.0  2.353519  0.561734  1.0  2.0  2.0   3.0   5.0\n",
       "Var4    1222.0  1.258592  0.438040  1.0  1.0  1.0   2.0   2.0\n",
       "Var5    1223.0  2.076043  1.235697  1.0  1.0  1.0   3.0   5.0\n",
       "Var6    1223.0  8.693377  5.671447  1.0  4.0  8.0  14.0  26.0\n",
       "Var7    1223.0  1.299264  0.458123  1.0  1.0  1.0   2.0   2.0\n",
       "Var8    1221.0  1.452088  0.848551  1.0  1.0  1.0   2.0   4.0\n",
       "Var9    1223.0  2.731807  1.279971  1.0  2.0  3.0   4.0   5.0\n",
       "Var10   1222.0  3.707038  1.578189  1.0  3.0  3.0   4.0   7.0\n",
       "Var11   1223.0  3.345053  1.026804  1.0  3.0  3.0   4.0   7.0\n",
       "Var12   1218.0  2.674877  1.545596  1.0  1.0  3.0   4.0   5.0\n",
       "Var13   1223.0  1.803761  0.900492  1.0  1.0  1.0   3.0   3.0\n",
       "Var14   1222.0  1.794599  0.404160  1.0  2.0  2.0   2.0   2.0"
      ]
     },
     "execution_count": 4,
     "metadata": {},
     "output_type": "execute_result"
    }
   ],
   "source": [
    "df.describe().transpose()"
   ]
  },
  {
   "cell_type": "code",
   "execution_count": 5,
   "metadata": {
    "scrolled": true
   },
   "outputs": [
    {
     "name": "stdout",
     "output_type": "stream",
     "text": [
      "<class 'pandas.core.frame.DataFrame'>\n",
      "RangeIndex: 1223 entries, 0 to 1222\n",
      "Data columns (total 15 columns):\n",
      "Target    1223 non-null int64\n",
      "Var1      1223 non-null int64\n",
      "Var2      1223 non-null int64\n",
      "Var3      1222 non-null float64\n",
      "Var4      1222 non-null float64\n",
      "Var5      1223 non-null int64\n",
      "Var6      1223 non-null int64\n",
      "Var7      1223 non-null int64\n",
      "Var8      1221 non-null float64\n",
      "Var9      1223 non-null int64\n",
      "Var10     1222 non-null float64\n",
      "Var11     1223 non-null int64\n",
      "Var12     1218 non-null float64\n",
      "Var13     1223 non-null int64\n",
      "Var14     1222 non-null float64\n",
      "dtypes: float64(6), int64(9)\n",
      "memory usage: 143.4 KB\n"
     ]
    }
   ],
   "source": [
    "df.info()"
   ]
  },
  {
   "cell_type": "markdown",
   "metadata": {},
   "source": [
    "## EDA"
   ]
  },
  {
   "cell_type": "code",
   "execution_count": 6,
   "metadata": {},
   "outputs": [
    {
     "data": {
      "text/plain": [
       "array([1, 2])"
      ]
     },
     "execution_count": 6,
     "metadata": {},
     "output_type": "execute_result"
    }
   ],
   "source": [
    "df.Target.unique()"
   ]
  },
  {
   "cell_type": "code",
   "execution_count": 7,
   "metadata": {},
   "outputs": [
    {
     "data": {
      "text/html": [
       "<div>\n",
       "<style scoped>\n",
       "    .dataframe tbody tr th:only-of-type {\n",
       "        vertical-align: middle;\n",
       "    }\n",
       "\n",
       "    .dataframe tbody tr th {\n",
       "        vertical-align: top;\n",
       "    }\n",
       "\n",
       "    .dataframe thead th {\n",
       "        text-align: right;\n",
       "    }\n",
       "</style>\n",
       "<table border=\"1\" class=\"dataframe\">\n",
       "  <thead>\n",
       "    <tr style=\"text-align: right;\">\n",
       "      <th></th>\n",
       "      <th>Target</th>\n",
       "      <th>Var1</th>\n",
       "      <th>Var2</th>\n",
       "      <th>Var3</th>\n",
       "      <th>Var4</th>\n",
       "      <th>Var5</th>\n",
       "      <th>Var6</th>\n",
       "      <th>Var7</th>\n",
       "      <th>Var8</th>\n",
       "      <th>Var9</th>\n",
       "      <th>Var10</th>\n",
       "      <th>Var11</th>\n",
       "      <th>Var12</th>\n",
       "      <th>Var13</th>\n",
       "      <th>Var14</th>\n",
       "    </tr>\n",
       "  </thead>\n",
       "  <tbody>\n",
       "    <tr>\n",
       "      <td>0</td>\n",
       "      <td>1</td>\n",
       "      <td>1</td>\n",
       "      <td>1</td>\n",
       "      <td>2.0</td>\n",
       "      <td>1.0</td>\n",
       "      <td>1</td>\n",
       "      <td>9</td>\n",
       "      <td>1</td>\n",
       "      <td>1.0</td>\n",
       "      <td>4</td>\n",
       "      <td>3.0</td>\n",
       "      <td>3</td>\n",
       "      <td>1.0</td>\n",
       "      <td>1</td>\n",
       "      <td>2.0</td>\n",
       "    </tr>\n",
       "  </tbody>\n",
       "</table>\n",
       "</div>"
      ],
      "text/plain": [
       "   Target  Var1  Var2  Var3  Var4  Var5  Var6  Var7  Var8  Var9  Var10  Var11  \\\n",
       "0       1     1     1   2.0   1.0     1     9     1   1.0     4    3.0      3   \n",
       "\n",
       "   Var12  Var13  Var14  \n",
       "0    1.0      1    2.0  "
      ]
     },
     "execution_count": 7,
     "metadata": {},
     "output_type": "execute_result"
    }
   ],
   "source": [
    "df.mode()"
   ]
  },
  {
   "cell_type": "code",
   "execution_count": 8,
   "metadata": {},
   "outputs": [
    {
     "data": {
      "text/plain": [
       "Target    1.0\n",
       "Var1      2.0\n",
       "Var2      1.0\n",
       "Var3      2.0\n",
       "Var4      1.0\n",
       "Var5      1.0\n",
       "Var6      8.0\n",
       "Var7      1.0\n",
       "Var8      1.0\n",
       "Var9      3.0\n",
       "Var10     3.0\n",
       "Var11     3.0\n",
       "Var12     3.0\n",
       "Var13     1.0\n",
       "Var14     2.0\n",
       "dtype: float64"
      ]
     },
     "execution_count": 8,
     "metadata": {},
     "output_type": "execute_result"
    }
   ],
   "source": [
    "df.median()"
   ]
  },
  {
   "cell_type": "code",
   "execution_count": 9,
   "metadata": {},
   "outputs": [
    {
     "data": {
      "text/plain": [
       "Target    1.143908\n",
       "Var1      2.483238\n",
       "Var2      1.077678\n",
       "Var3      2.353519\n",
       "Var4      1.258592\n",
       "Var5      2.076043\n",
       "Var6      8.693377\n",
       "Var7      1.299264\n",
       "Var8      1.452088\n",
       "Var9      2.731807\n",
       "Var10     3.707038\n",
       "Var11     3.345053\n",
       "Var12     2.674877\n",
       "Var13     1.803761\n",
       "Var14     1.794599\n",
       "dtype: float64"
      ]
     },
     "execution_count": 9,
     "metadata": {},
     "output_type": "execute_result"
    }
   ],
   "source": [
    "df.mean()"
   ]
  },
  {
   "cell_type": "code",
   "execution_count": 10,
   "metadata": {},
   "outputs": [
    {
     "name": "stdout",
     "output_type": "stream",
     "text": [
      "Target    0\n",
      "Var1      0\n",
      "Var2      0\n",
      "Var3      1\n",
      "Var4      1\n",
      "Var5      0\n",
      "Var6      0\n",
      "Var7      0\n",
      "Var8      2\n",
      "Var9      0\n",
      "Var10     1\n",
      "Var11     0\n",
      "Var12     5\n",
      "Var13     0\n",
      "Var14     1\n",
      "dtype: int64\n"
     ]
    }
   ],
   "source": [
    "print(df.isnull().sum())"
   ]
  },
  {
   "cell_type": "code",
   "execution_count": 11,
   "metadata": {},
   "outputs": [
    {
     "data": {
      "text/html": [
       "<div>\n",
       "<style scoped>\n",
       "    .dataframe tbody tr th:only-of-type {\n",
       "        vertical-align: middle;\n",
       "    }\n",
       "\n",
       "    .dataframe tbody tr th {\n",
       "        vertical-align: top;\n",
       "    }\n",
       "\n",
       "    .dataframe thead th {\n",
       "        text-align: right;\n",
       "    }\n",
       "</style>\n",
       "<table border=\"1\" class=\"dataframe\">\n",
       "  <thead>\n",
       "    <tr style=\"text-align: right;\">\n",
       "      <th></th>\n",
       "      <th>Target</th>\n",
       "      <th>Var1</th>\n",
       "      <th>Var2</th>\n",
       "      <th>Var3</th>\n",
       "      <th>Var4</th>\n",
       "      <th>Var5</th>\n",
       "      <th>Var6</th>\n",
       "      <th>Var7</th>\n",
       "      <th>Var8</th>\n",
       "      <th>Var9</th>\n",
       "      <th>Var10</th>\n",
       "      <th>Var11</th>\n",
       "      <th>Var12</th>\n",
       "      <th>Var13</th>\n",
       "      <th>Var14</th>\n",
       "    </tr>\n",
       "  </thead>\n",
       "  <tbody>\n",
       "  </tbody>\n",
       "</table>\n",
       "</div>"
      ],
      "text/plain": [
       "Empty DataFrame\n",
       "Columns: [Target, Var1, Var2, Var3, Var4, Var5, Var6, Var7, Var8, Var9, Var10, Var11, Var12, Var13, Var14]\n",
       "Index: []"
      ]
     },
     "execution_count": 11,
     "metadata": {},
     "output_type": "execute_result"
    }
   ],
   "source": [
    "df[~df.applymap(np.isreal).all(1)]"
   ]
  },
  {
   "cell_type": "code",
   "execution_count": 12,
   "metadata": {},
   "outputs": [
    {
     "data": {
      "text/html": [
       "<div>\n",
       "<style scoped>\n",
       "    .dataframe tbody tr th:only-of-type {\n",
       "        vertical-align: middle;\n",
       "    }\n",
       "\n",
       "    .dataframe tbody tr th {\n",
       "        vertical-align: top;\n",
       "    }\n",
       "\n",
       "    .dataframe thead th {\n",
       "        text-align: right;\n",
       "    }\n",
       "</style>\n",
       "<table border=\"1\" class=\"dataframe\">\n",
       "  <thead>\n",
       "    <tr style=\"text-align: right;\">\n",
       "      <th></th>\n",
       "      <th>Var1</th>\n",
       "      <th>Var2</th>\n",
       "      <th>Var3</th>\n",
       "      <th>Var4</th>\n",
       "      <th>Var5</th>\n",
       "      <th>Var6</th>\n",
       "      <th>Var7</th>\n",
       "      <th>Var8</th>\n",
       "      <th>Var9</th>\n",
       "      <th>Var10</th>\n",
       "      <th>Var11</th>\n",
       "      <th>Var12</th>\n",
       "      <th>Var13</th>\n",
       "      <th>Var14</th>\n",
       "    </tr>\n",
       "    <tr>\n",
       "      <th>Target</th>\n",
       "      <th></th>\n",
       "      <th></th>\n",
       "      <th></th>\n",
       "      <th></th>\n",
       "      <th></th>\n",
       "      <th></th>\n",
       "      <th></th>\n",
       "      <th></th>\n",
       "      <th></th>\n",
       "      <th></th>\n",
       "      <th></th>\n",
       "      <th></th>\n",
       "      <th></th>\n",
       "      <th></th>\n",
       "    </tr>\n",
       "  </thead>\n",
       "  <tbody>\n",
       "    <tr>\n",
       "      <td>1</td>\n",
       "      <td>1047</td>\n",
       "      <td>1047</td>\n",
       "      <td>1046</td>\n",
       "      <td>1046</td>\n",
       "      <td>1047</td>\n",
       "      <td>1047</td>\n",
       "      <td>1047</td>\n",
       "      <td>1045</td>\n",
       "      <td>1047</td>\n",
       "      <td>1046</td>\n",
       "      <td>1047</td>\n",
       "      <td>1042</td>\n",
       "      <td>1047</td>\n",
       "      <td>1046</td>\n",
       "    </tr>\n",
       "    <tr>\n",
       "      <td>2</td>\n",
       "      <td>176</td>\n",
       "      <td>176</td>\n",
       "      <td>176</td>\n",
       "      <td>176</td>\n",
       "      <td>176</td>\n",
       "      <td>176</td>\n",
       "      <td>176</td>\n",
       "      <td>176</td>\n",
       "      <td>176</td>\n",
       "      <td>176</td>\n",
       "      <td>176</td>\n",
       "      <td>176</td>\n",
       "      <td>176</td>\n",
       "      <td>176</td>\n",
       "    </tr>\n",
       "  </tbody>\n",
       "</table>\n",
       "</div>"
      ],
      "text/plain": [
       "        Var1  Var2  Var3  Var4  Var5  Var6  Var7  Var8  Var9  Var10  Var11  \\\n",
       "Target                                                                       \n",
       "1       1047  1047  1046  1046  1047  1047  1047  1045  1047   1046   1047   \n",
       "2        176   176   176   176   176   176   176   176   176    176    176   \n",
       "\n",
       "        Var12  Var13  Var14  \n",
       "Target                       \n",
       "1        1042   1047   1046  \n",
       "2         176    176    176  "
      ]
     },
     "execution_count": 12,
     "metadata": {},
     "output_type": "execute_result"
    }
   ],
   "source": [
    "#look at traget column to understand how the data is divisded\n",
    "\n",
    "df.groupby(['Target']).count()"
   ]
  },
  {
   "cell_type": "code",
   "execution_count": 13,
   "metadata": {
    "scrolled": false
   },
   "outputs": [
    {
     "name": "stderr",
     "output_type": "stream",
     "text": [
      "/Users/imrozmohiuddin/opt/anaconda3/lib/python3.7/site-packages/statsmodels/nonparametric/kde.py:487: RuntimeWarning: invalid value encountered in true_divide\n",
      "  binned = fast_linbin(X, a, b, gridsize) / (delta * nobs)\n",
      "/Users/imrozmohiuddin/opt/anaconda3/lib/python3.7/site-packages/statsmodels/nonparametric/kdetools.py:34: RuntimeWarning: invalid value encountered in double_scalars\n",
      "  FAC1 = 2*(np.pi*bw/RANGE)**2\n",
      "/Users/imrozmohiuddin/opt/anaconda3/lib/python3.7/site-packages/statsmodels/nonparametric/kde.py:447: RuntimeWarning: invalid value encountered in greater\n",
      "  X = X[np.logical_and(X > clip[0], X < clip[1])] # won't work for two columns.\n",
      "/Users/imrozmohiuddin/opt/anaconda3/lib/python3.7/site-packages/statsmodels/nonparametric/kde.py:447: RuntimeWarning: invalid value encountered in less\n",
      "  X = X[np.logical_and(X > clip[0], X < clip[1])] # won't work for two columns.\n"
     ]
    },
    {
     "data": {
      "text/plain": [
       "<seaborn.axisgrid.PairGrid at 0x7fb0dc026150>"
      ]
     },
     "execution_count": 13,
     "metadata": {},
     "output_type": "execute_result"
    },
    {
     "data": {
      "image/png": "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\n",
      "text/plain": [
       "<Figure size 2742.38x2700 with 240 Axes>"
      ]
     },
     "metadata": {
      "needs_background": "light"
     },
     "output_type": "display_data"
    }
   ],
   "source": [
    "sns.pairplot(df,diag_kind ='kde', hue=\"Target\")"
   ]
  },
  {
   "cell_type": "code",
   "execution_count": 14,
   "metadata": {},
   "outputs": [
    {
     "data": {
      "text/plain": [
       "<matplotlib.axes._subplots.AxesSubplot at 0x7fb0c60e4990>"
      ]
     },
     "execution_count": 14,
     "metadata": {},
     "output_type": "execute_result"
    },
    {
     "data": {
      "image/png": "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\n",
      "text/plain": [
       "<Figure size 432x288 with 1 Axes>"
      ]
     },
     "metadata": {
      "needs_background": "light"
     },
     "output_type": "display_data"
    }
   ],
   "source": [
    "count_classes = pd.value_counts(df['Target'], sort = True)\n",
    "count_classes.plot(kind = 'bar', rot=0)"
   ]
  },
  {
   "cell_type": "code",
   "execution_count": 15,
   "metadata": {},
   "outputs": [
    {
     "data": {
      "text/plain": [
       "<matplotlib.axes._subplots.AxesSubplot at 0x7fb0c84f9a10>"
      ]
     },
     "execution_count": 15,
     "metadata": {},
     "output_type": "execute_result"
    },
    {
     "data": {
      "image/png": "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\n",
      "text/plain": [
       "<Figure size 432x288 with 1 Axes>"
      ]
     },
     "metadata": {
      "needs_background": "light"
     },
     "output_type": "display_data"
    }
   ],
   "source": [
    "count_classes = pd.value_counts(df['Var1'], sort = True)\n",
    "count_classes.plot(kind = 'bar', rot=0)"
   ]
  },
  {
   "cell_type": "code",
   "execution_count": 16,
   "metadata": {},
   "outputs": [
    {
     "data": {
      "text/plain": [
       "<matplotlib.axes._subplots.AxesSubplot at 0x7fb0c8401d50>"
      ]
     },
     "execution_count": 16,
     "metadata": {},
     "output_type": "execute_result"
    },
    {
     "data": {
      "image/png": "iVBORw0KGgoAAAANSUhEUgAAAX0AAAD4CAYAAAAAczaOAAAABHNCSVQICAgIfAhkiAAAAAlwSFlzAAALEgAACxIB0t1+/AAAADh0RVh0U29mdHdhcmUAbWF0cGxvdGxpYiB2ZXJzaW9uMy4xLjEsIGh0dHA6Ly9tYXRwbG90bGliLm9yZy8QZhcZAAAMjklEQVR4nO3db6ie9X3H8fdnprZru9Z/R3FJ2HE0dJPCUA7WTSijGV3VsfiggmXUUAJ54jY7B2u2J8L2RGHUrTCE0LhFEFexgmGVFVFLGUzp0YrVZsXgOnOm01Oitp2UTvbdg/PLPE2OiTl3ct+a7/sFh/u6ftfvOtfvQHifi+vct6aqkCT18AuzXoAkaXqMviQ1YvQlqRGjL0mNGH1JamTDrBdwLOedd17Nz8/PehmS9K7y+OOP/7Cq5tY69o6O/vz8PIuLi7NehiS9qyT5j7c65uMdSWrE6EtSI0Zfkhox+pLUiNGXpEaMviQ1YvQlqRGjL0mNGH1JauQd/Yncd4v5XV+f9RJOKz+45epZL0E6bXmnL0mNGH1JasToS1IjRl+SGjH6ktSI0ZekRoy+JDVi9CWpEaMvSY0YfUlqxOhLUiNGX5IaMfqS1IjRl6RGjL4kNWL0JakRoy9JjRh9SWrE6EtSI8eNfpI7kryc5OlVY+ckeTDJs+P17DGeJF9OciDJU0kuXXXO9jH/2STbT82PI0k6lrdzp/8PwKePGNsFPFRVW4CHxj7AlcCW8bUTuB1WfkkANwMfBy4Dbj78i0KSND3HjX5VfQs4dMTwNmDv2N4LXLNq/M5a8ShwVpILgd8FHqyqQ1X1CvAgR/8ikSSdYut9pn9BVb0IMF7PH+MbgYOr5i2NsbcaP0qSnUkWkywuLy+vc3mSpLWc7D/kZo2xOsb40YNVu6tqoaoW5ubmTuriJKm79Ub/pfHYhvH68hhfAjavmrcJeOEY45KkKVpv9PcBh9+Bsx24f9X49eNdPJcDr43HP98APpXk7PEH3E+NMUnSFG043oQkdwO/DZyXZImVd+HcAtyTZAfwPHDtmP4AcBVwAHgd+DxAVR1K8lfAt8e8v6yqI/84LEk6xY4b/ar67Fsc2rrG3AJueIvvcwdwxwmtTpJ0UvmJXElqxOhLUiNGX5IaMfqS1IjRl6RGjL4kNWL0JakRoy9JjRh9SWrE6EtSI0Zfkhox+pLUiNGXpEaMviQ1YvQlqRGjL0mNGH1JasToS1IjRl+SGjH6ktSI0ZekRoy+JDVi9CWpEaMvSY0YfUlqxOhLUiNGX5IaMfqS1MhE0U/yJ0meSfJ0kruTvC/JRUkeS/Jskq8mOXPMfe/YPzCOz5+MH0CS9PatO/pJNgJ/DCxU1ceAM4DrgFuB26pqC/AKsGOcsgN4pao+Atw25kmSpmjSxzsbgF9MsgF4P/Ai8Eng3nF8L3DN2N429hnHtybJhNeXJJ2AdUe/qv4T+GvgeVZi/xrwOPBqVb0xpi0BG8f2RuDgOPeNMf/cI79vkp1JFpMsLi8vr3d5kqQ1TPJ452xW7t4vAn4Z+ABw5RpT6/Apxzj25kDV7qpaqKqFubm59S5PkrSGSR7v/A7w71W1XFX/A9wH/BZw1njcA7AJeGFsLwGbAcbxDwOHJri+JOkETRL954HLk7x/PJvfCnwPeAT4zJizHbh/bO8b+4zjD1fVUXf6kqRTZ5Jn+o+x8gfZJ4Dvju+1G/gicFOSA6w8s98zTtkDnDvGbwJ2TbBuSdI6bDj+lLdWVTcDNx8x/Bxw2RpzfwpcO8n1JEmT8RO5ktSI0ZekRoy+JDVi9CWpEaMvSY0YfUlqxOhLUiNGX5IaMfqS1IjRl6RGjL4kNWL0JakRoy9JjRh9SWrE6EtSI0Zfkhox+pLUiNGXpEaMviQ1YvQlqRGjL0mNGH1JasToS1IjRl+SGjH6ktSI0ZekRoy+JDUyUfSTnJXk3iT/lmR/kt9Mck6SB5M8O17PHnOT5MtJDiR5KsmlJ+dHkCS9XZPe6f8t8M9V9WvAbwD7gV3AQ1W1BXho7ANcCWwZXzuB2ye8tiTpBK07+kk+BHwC2ANQVT+rqleBbcDeMW0vcM3Y3gbcWSseBc5KcuG6Vy5JOmGT3On/KrAM/H2S7yT5SpIPABdU1YsA4/X8MX8jcHDV+UtjTJI0JZNEfwNwKXB7VV0C/DdvPspZS9YYq6MmJTuTLCZZXF5enmB5kqQjTRL9JWCpqh4b+/ey8kvgpcOPbcbry6vmb151/ibghSO/aVXtrqqFqlqYm5ubYHmSpCOtO/pV9V/AwSQfHUNbge8B+4DtY2w7cP/Y3gdcP97Fcznw2uHHQJKk6dgw4fl/BNyV5EzgOeDzrPwiuSfJDuB54Nox9wHgKuAA8PqYK0maoomiX1VPAgtrHNq6xtwCbpjkepKkyfiJXElqxOhLUiNGX5IaMfqS1IjRl6RGjL4kNWL0JakRoy9JjRh9SWrE6EtSI0Zfkhox+pLUiNGXpEaMviQ1YvQlqRGjL0mNGH1JasToS1IjRl+SGjH6ktSI0ZekRoy+JDVi9CWpEaMvSY0YfUlqxOhLUiNGX5IaMfqS1MjE0U9yRpLvJPmnsX9RkseSPJvkq0nOHOPvHfsHxvH5Sa8tSToxJ+NO/0Zg/6r9W4HbqmoL8AqwY4zvAF6pqo8At415kqQpmij6STYBVwNfGfsBPgncO6bsBa4Z29vGPuP41jFfkjQlk97p/w3wZ8D/jv1zgVer6o2xvwRsHNsbgYMA4/hrY/7PSbIzyWKSxeXl5QmXJ0labd3RT/J7wMtV9fjq4TWm1ts49uZA1e6qWqiqhbm5ufUuT5K0hg0TnHsF8PtJrgLeB3yIlTv/s5JsGHfzm4AXxvwlYDOwlGQD8GHg0ATXlySdoHXf6VfVn1fVpqqaB64DHq6qPwAeAT4zpm0H7h/b+8Y+4/jDVXXUnb4k6dQ5Fe/T/yJwU5IDrDyz3zPG9wDnjvGbgF2n4NqSpGOY5PHO/6uqbwLfHNvPAZetMeenwLUn43qSpPXxE7mS1IjRl6RGjL4kNWL0JakRoy9JjRh9SWrE6EtSI0Zfkhox+pLUiNGXpEaMviQ1YvQlqRGjL0mNGH1JasToS1IjRl+SGjH6ktSI0ZekRoy+JDVi9CWpEaMvSY0YfUlqxOhLUiNGX5IaMfqS1IjRl6RGjL4kNWL0JamRdUc/yeYkjyTZn+SZJDeO8XOSPJjk2fF69hhPki8nOZDkqSSXnqwfQpL09kxyp/8G8KdV9evA5cANSS4GdgEPVdUW4KGxD3AlsGV87QRun+DakqR1WHf0q+rFqnpibP8Y2A9sBLYBe8e0vcA1Y3sbcGeteBQ4K8mF6165JOmEnZRn+knmgUuAx4ALqupFWPnFAJw/pm0EDq46bWmMHfm9diZZTLK4vLx8MpYnSRomjn6SDwJfA75QVT861tQ1xuqogardVbVQVQtzc3OTLk+StMpE0U/yHlaCf1dV3TeGXzr82Ga8vjzGl4DNq07fBLwwyfUlSSdmknfvBNgD7K+qL606tA/YPra3A/evGr9+vIvncuC1w4+BJEnTsWGCc68APgd8N8mTY+wvgFuAe5LsAJ4Hrh3HHgCuAg4ArwOfn+DakqR1WHf0q+pfWPs5PcDWNeYXcMN6rydJmpyfyJWkRoy+JDVi9CWpEaMvSY0YfUlqxOhLUiNGX5IaMfqS1IjRl6RGjL4kNWL0JakRoy9JjRh9SWpkkv+0sqR3gfldX5/1Ek4bP7jl6lkvYWLe6UtSI0Zfkhox+pLUiNGXpEaMviQ1YvQlqRGjL0mNGH1JasToS1IjRl+SGjH6ktSI0ZekRoy+JDVi9CWpkalHP8mnk3w/yYEku6Z9fUnqbKrRT3IG8HfAlcDFwGeTXDzNNUhSZ9O+078MOFBVz1XVz4B/BLZNeQ2S1Na0/89ZG4GDq/aXgI+vnpBkJ7Bz7P4kyfentLYOzgN+OOtFHE9unfUKNAP+2zy5fuWtDkw7+lljrH5up2o3sHs6y+klyWJVLcx6HdKR/Lc5PdN+vLMEbF61vwl4YcprkKS2ph39bwNbklyU5EzgOmDflNcgSW1N9fFOVb2R5A+BbwBnAHdU1TPTXENzPjbTO5X/NqckVXX8WZKk04KfyJWkRoy+JDVi9BtIckeSl5M8Peu1SKsl2ZzkkST7kzyT5MZZr+l05zP9BpJ8AvgJcGdVfWzW65EOS3IhcGFVPZHkl4DHgWuq6nszXtppyzv9BqrqW8ChWa9DOlJVvVhVT4ztHwP7Wfnkvk4Roy/pHSHJPHAJ8NhsV3J6M/qSZi7JB4GvAV+oqh/Nej2nM6MvaaaSvIeV4N9VVffNej2nO6MvaWaSBNgD7K+qL816PR0Y/QaS3A38K/DRJEtJdsx6TdJwBfA54JNJnhxfV816Uacz37IpSY14py9JjRh9SWrE6EtSI0Zfkhox+pLUiNGXpEaMviQ18n/Hm8e1Ym7/+AAAAABJRU5ErkJggg==\n",
      "text/plain": [
       "<Figure size 432x288 with 1 Axes>"
      ]
     },
     "metadata": {
      "needs_background": "light"
     },
     "output_type": "display_data"
    }
   ],
   "source": [
    "count_classes = pd.value_counts(df['Var2'], sort = True)\n",
    "count_classes.plot(kind = 'bar', rot=0)"
   ]
  },
  {
   "cell_type": "code",
   "execution_count": 17,
   "metadata": {},
   "outputs": [
    {
     "data": {
      "text/plain": [
       "<matplotlib.axes._subplots.AxesSubplot at 0x7fb0c853c3d0>"
      ]
     },
     "execution_count": 17,
     "metadata": {},
     "output_type": "execute_result"
    },
    {
     "data": {
      "image/png": "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\n",
      "text/plain": [
       "<Figure size 432x288 with 1 Axes>"
      ]
     },
     "metadata": {
      "needs_background": "light"
     },
     "output_type": "display_data"
    }
   ],
   "source": [
    "count_classes = pd.value_counts(df['Var3'], sort = True)\n",
    "count_classes.plot(kind = 'bar', rot=0)"
   ]
  },
  {
   "cell_type": "code",
   "execution_count": 18,
   "metadata": {},
   "outputs": [
    {
     "data": {
      "text/plain": [
       "<matplotlib.axes._subplots.AxesSubplot at 0x7fb0c8542490>"
      ]
     },
     "execution_count": 18,
     "metadata": {},
     "output_type": "execute_result"
    },
    {
     "data": {
      "image/png": "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\n",
      "text/plain": [
       "<Figure size 432x288 with 1 Axes>"
      ]
     },
     "metadata": {
      "needs_background": "light"
     },
     "output_type": "display_data"
    }
   ],
   "source": [
    "count_classes = pd.value_counts(df['Var4'], sort = True)\n",
    "count_classes.plot(kind = 'bar', rot=0)"
   ]
  },
  {
   "cell_type": "code",
   "execution_count": 19,
   "metadata": {},
   "outputs": [
    {
     "data": {
      "text/plain": [
       "<matplotlib.axes._subplots.AxesSubplot at 0x7fb0ca346710>"
      ]
     },
     "execution_count": 19,
     "metadata": {},
     "output_type": "execute_result"
    },
    {
     "data": {
      "image/png": "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\n",
      "text/plain": [
       "<Figure size 432x288 with 1 Axes>"
      ]
     },
     "metadata": {
      "needs_background": "light"
     },
     "output_type": "display_data"
    }
   ],
   "source": [
    "count_classes = pd.value_counts(df['Var5'], sort = True)\n",
    "count_classes.plot(kind = 'bar', rot=0)"
   ]
  },
  {
   "cell_type": "code",
   "execution_count": 20,
   "metadata": {},
   "outputs": [
    {
     "data": {
      "text/plain": [
       "<matplotlib.axes._subplots.AxesSubplot at 0x7fb0ca4e1990>"
      ]
     },
     "execution_count": 20,
     "metadata": {},
     "output_type": "execute_result"
    },
    {
     "data": {
      "image/png": "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\n",
      "text/plain": [
       "<Figure size 432x288 with 1 Axes>"
      ]
     },
     "metadata": {
      "needs_background": "light"
     },
     "output_type": "display_data"
    }
   ],
   "source": [
    "count_classes = pd.value_counts(df['Var6'], sort = True)\n",
    "count_classes.plot(kind = 'bar', rot=0)"
   ]
  },
  {
   "cell_type": "code",
   "execution_count": 21,
   "metadata": {},
   "outputs": [
    {
     "data": {
      "text/plain": [
       "<matplotlib.axes._subplots.AxesSubplot at 0x7fb0ca62acd0>"
      ]
     },
     "execution_count": 21,
     "metadata": {},
     "output_type": "execute_result"
    },
    {
     "data": {
      "image/png": "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\n",
      "text/plain": [
       "<Figure size 432x288 with 1 Axes>"
      ]
     },
     "metadata": {
      "needs_background": "light"
     },
     "output_type": "display_data"
    }
   ],
   "source": [
    "count_classes = pd.value_counts(df['Var7'], sort = True)\n",
    "count_classes.plot(kind = 'bar', rot=0)"
   ]
  },
  {
   "cell_type": "code",
   "execution_count": 22,
   "metadata": {},
   "outputs": [
    {
     "data": {
      "text/plain": [
       "<matplotlib.axes._subplots.AxesSubplot at 0x7fb0ca741ad0>"
      ]
     },
     "execution_count": 22,
     "metadata": {},
     "output_type": "execute_result"
    },
    {
     "data": {
      "image/png": "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\n",
      "text/plain": [
       "<Figure size 432x288 with 1 Axes>"
      ]
     },
     "metadata": {
      "needs_background": "light"
     },
     "output_type": "display_data"
    }
   ],
   "source": [
    "count_classes = pd.value_counts(df['Var8'], sort = True)\n",
    "count_classes.plot(kind = 'bar', rot=0)"
   ]
  },
  {
   "cell_type": "code",
   "execution_count": 23,
   "metadata": {},
   "outputs": [
    {
     "data": {
      "text/plain": [
       "<matplotlib.axes._subplots.AxesSubplot at 0x7fb0ca824390>"
      ]
     },
     "execution_count": 23,
     "metadata": {},
     "output_type": "execute_result"
    },
    {
     "data": {
      "image/png": "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\n",
      "text/plain": [
       "<Figure size 432x288 with 1 Axes>"
      ]
     },
     "metadata": {
      "needs_background": "light"
     },
     "output_type": "display_data"
    }
   ],
   "source": [
    "count_classes = pd.value_counts(df['Var9'], sort = True)\n",
    "count_classes.plot(kind = 'bar', rot=0)"
   ]
  },
  {
   "cell_type": "code",
   "execution_count": 24,
   "metadata": {},
   "outputs": [
    {
     "data": {
      "text/plain": [
       "<matplotlib.axes._subplots.AxesSubplot at 0x7fb0ca8ff4d0>"
      ]
     },
     "execution_count": 24,
     "metadata": {},
     "output_type": "execute_result"
    },
    {
     "data": {
      "image/png": "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\n",
      "text/plain": [
       "<Figure size 432x288 with 1 Axes>"
      ]
     },
     "metadata": {
      "needs_background": "light"
     },
     "output_type": "display_data"
    }
   ],
   "source": [
    "count_classes = pd.value_counts(df['Var10'], sort = True)\n",
    "count_classes.plot(kind = 'bar', rot=0)"
   ]
  },
  {
   "cell_type": "code",
   "execution_count": 25,
   "metadata": {},
   "outputs": [
    {
     "data": {
      "text/plain": [
       "<matplotlib.axes._subplots.AxesSubplot at 0x7fb0ca9f2d10>"
      ]
     },
     "execution_count": 25,
     "metadata": {},
     "output_type": "execute_result"
    },
    {
     "data": {
      "image/png": "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\n",
      "text/plain": [
       "<Figure size 432x288 with 1 Axes>"
      ]
     },
     "metadata": {
      "needs_background": "light"
     },
     "output_type": "display_data"
    }
   ],
   "source": [
    "count_classes = pd.value_counts(df['Var11'], sort = True)\n",
    "count_classes.plot(kind = 'bar', rot=0)"
   ]
  },
  {
   "cell_type": "code",
   "execution_count": 26,
   "metadata": {},
   "outputs": [
    {
     "data": {
      "text/plain": [
       "<matplotlib.axes._subplots.AxesSubplot at 0x7fb0caad7550>"
      ]
     },
     "execution_count": 26,
     "metadata": {},
     "output_type": "execute_result"
    },
    {
     "data": {
      "image/png": "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\n",
      "text/plain": [
       "<Figure size 432x288 with 1 Axes>"
      ]
     },
     "metadata": {
      "needs_background": "light"
     },
     "output_type": "display_data"
    }
   ],
   "source": [
    "count_classes = pd.value_counts(df['Var12'], sort = True)\n",
    "count_classes.plot(kind = 'bar', rot=0)"
   ]
  },
  {
   "cell_type": "code",
   "execution_count": 27,
   "metadata": {},
   "outputs": [
    {
     "data": {
      "text/plain": [
       "<matplotlib.axes._subplots.AxesSubplot at 0x7fb0cabb5190>"
      ]
     },
     "execution_count": 27,
     "metadata": {},
     "output_type": "execute_result"
    },
    {
     "data": {
      "image/png": "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\n",
      "text/plain": [
       "<Figure size 432x288 with 1 Axes>"
      ]
     },
     "metadata": {
      "needs_background": "light"
     },
     "output_type": "display_data"
    }
   ],
   "source": [
    "count_classes = pd.value_counts(df['Var13'], sort = True)\n",
    "count_classes.plot(kind = 'bar', rot=0)"
   ]
  },
  {
   "cell_type": "code",
   "execution_count": 28,
   "metadata": {
    "scrolled": true
   },
   "outputs": [
    {
     "data": {
      "text/plain": [
       "<matplotlib.axes._subplots.AxesSubplot at 0x7fb0cadaf210>"
      ]
     },
     "execution_count": 28,
     "metadata": {},
     "output_type": "execute_result"
    },
    {
     "data": {
      "image/png": "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\n",
      "text/plain": [
       "<Figure size 432x288 with 1 Axes>"
      ]
     },
     "metadata": {
      "needs_background": "light"
     },
     "output_type": "display_data"
    }
   ],
   "source": [
    "count_classes = pd.value_counts(df['Var14'], sort = True)\n",
    "count_classes.plot(kind = 'bar', rot=0)"
   ]
  },
  {
   "cell_type": "code",
   "execution_count": 29,
   "metadata": {},
   "outputs": [
    {
     "data": {
      "text/plain": [
       "<matplotlib.axes._subplots.AxesSubplot at 0x7fb0cae75e50>"
      ]
     },
     "execution_count": 29,
     "metadata": {},
     "output_type": "execute_result"
    },
    {
     "data": {
      "image/png": "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\n",
      "text/plain": [
       "<Figure size 432x288 with 2 Axes>"
      ]
     },
     "metadata": {
      "needs_background": "light"
     },
     "output_type": "display_data"
    }
   ],
   "source": [
    "corr = df.corr()\n",
    "sns.heatmap(corr)"
   ]
  },
  {
   "cell_type": "markdown",
   "metadata": {},
   "source": [
    "## Dropped Null values"
   ]
  },
  {
   "cell_type": "code",
   "execution_count": 30,
   "metadata": {},
   "outputs": [],
   "source": [
    "df =df.dropna()"
   ]
  },
  {
   "cell_type": "markdown",
   "metadata": {},
   "source": [
    "## Need to set the columns (Var2, Var4, Var7, Var13, Var14)"
   ]
  },
  {
   "cell_type": "code",
   "execution_count": 31,
   "metadata": {},
   "outputs": [
    {
     "data": {
      "text/plain": [
       "['Target',\n",
       " 'Var1',\n",
       " 'Var2',\n",
       " 'Var3',\n",
       " 'Var4',\n",
       " 'Var5',\n",
       " 'Var6',\n",
       " 'Var7',\n",
       " 'Var8',\n",
       " 'Var9',\n",
       " 'Var10',\n",
       " 'Var11',\n",
       " 'Var12',\n",
       " 'Var13',\n",
       " 'Var14']"
      ]
     },
     "execution_count": 31,
     "metadata": {},
     "output_type": "execute_result"
    }
   ],
   "source": [
    "cols = list(df.columns)\n",
    "cols"
   ]
  },
  {
   "cell_type": "code",
   "execution_count": 32,
   "metadata": {
    "scrolled": false
   },
   "outputs": [
    {
     "name": "stdout",
     "output_type": "stream",
     "text": [
      "Target\n",
      "[1 2]\n",
      "Var1\n",
      "[1 2 3 4 5 6]\n",
      "Var2\n",
      "[1 2]\n",
      "Var3\n",
      "[1. 2. 3. 4. 5.]\n",
      "Var4\n",
      "[1. 2.]\n",
      "Var5\n",
      "[1 2 3 4 5]\n",
      "Var6\n",
      "[ 1  2  3  4  5  7  8  9 10 11 12  6 13 14 15 16 17 18 19 20 21 22 23 24\n",
      " 25 26]\n",
      "Var7\n",
      "[1 2]\n",
      "Var8\n",
      "[1. 2. 3. 4.]\n",
      "Var9\n",
      "[1 2 3 5 4]\n",
      "Var10\n",
      "[1. 2. 3. 4. 5. 6. 7.]\n",
      "Var11\n",
      "[1 2 3 4 5 6 7]\n",
      "Var12\n",
      "[1. 2. 3. 4. 5.]\n",
      "Var13\n",
      "[1 2 3]\n",
      "Var14\n",
      "[1. 2.]\n"
     ]
    }
   ],
   "source": [
    "for col in cols:\n",
    "    i = df[col].unique()\n",
    "    print(col)\n",
    "    print(i)"
   ]
  },
  {
   "cell_type": "code",
   "execution_count": 33,
   "metadata": {},
   "outputs": [
    {
     "data": {
      "text/plain": [
       "Target      int64\n",
       "Var1        int64\n",
       "Var2        int64\n",
       "Var3      float64\n",
       "Var4      float64\n",
       "Var5        int64\n",
       "Var6        int64\n",
       "Var7        int64\n",
       "Var8      float64\n",
       "Var9        int64\n",
       "Var10     float64\n",
       "Var11       int64\n",
       "Var12     float64\n",
       "Var13       int64\n",
       "Var14     float64\n",
       "dtype: object"
      ]
     },
     "execution_count": 33,
     "metadata": {},
     "output_type": "execute_result"
    }
   ],
   "source": [
    "df.dtypes"
   ]
  },
  {
   "cell_type": "code",
   "execution_count": 34,
   "metadata": {},
   "outputs": [
    {
     "name": "stderr",
     "output_type": "stream",
     "text": [
      "/Users/imrozmohiuddin/opt/anaconda3/lib/python3.7/site-packages/pandas/core/frame.py:3494: SettingWithCopyWarning: \n",
      "A value is trying to be set on a copy of a slice from a DataFrame.\n",
      "Try using .loc[row_indexer,col_indexer] = value instead\n",
      "\n",
      "See the caveats in the documentation: http://pandas.pydata.org/pandas-docs/stable/user_guide/indexing.html#returning-a-view-versus-a-copy\n",
      "  self[k1] = value[k2]\n"
     ]
    },
    {
     "data": {
      "text/plain": [
       "Target      int64\n",
       "Var1        int64\n",
       "Var2       object\n",
       "Var3      float64\n",
       "Var4       object\n",
       "Var5        int64\n",
       "Var6        int64\n",
       "Var7       object\n",
       "Var8      float64\n",
       "Var9        int64\n",
       "Var10     float64\n",
       "Var11       int64\n",
       "Var12     float64\n",
       "Var13      object\n",
       "Var14      object\n",
       "dtype: object"
      ]
     },
     "execution_count": 34,
     "metadata": {},
     "output_type": "execute_result"
    }
   ],
   "source": [
    "df[['Var2','Var4','Var7','Var13','Var14']]=df[['Var2','Var4','Var7','Var13','Var14']].astype('object')\n",
    "df.dtypes"
   ]
  },
  {
   "cell_type": "code",
   "execution_count": 35,
   "metadata": {},
   "outputs": [
    {
     "data": {
      "text/html": [
       "<div>\n",
       "<style scoped>\n",
       "    .dataframe tbody tr th:only-of-type {\n",
       "        vertical-align: middle;\n",
       "    }\n",
       "\n",
       "    .dataframe tbody tr th {\n",
       "        vertical-align: top;\n",
       "    }\n",
       "\n",
       "    .dataframe thead th {\n",
       "        text-align: right;\n",
       "    }\n",
       "</style>\n",
       "<table border=\"1\" class=\"dataframe\">\n",
       "  <thead>\n",
       "    <tr style=\"text-align: right;\">\n",
       "      <th></th>\n",
       "      <th>Target</th>\n",
       "      <th>Var1</th>\n",
       "      <th>Var2</th>\n",
       "      <th>Var3</th>\n",
       "      <th>Var4</th>\n",
       "      <th>Var5</th>\n",
       "      <th>Var6</th>\n",
       "      <th>Var7</th>\n",
       "      <th>Var8</th>\n",
       "      <th>Var9</th>\n",
       "      <th>Var10</th>\n",
       "      <th>Var11</th>\n",
       "      <th>Var12</th>\n",
       "      <th>Var13</th>\n",
       "      <th>Var14</th>\n",
       "    </tr>\n",
       "  </thead>\n",
       "  <tbody>\n",
       "    <tr>\n",
       "      <td>0</td>\n",
       "      <td>1</td>\n",
       "      <td>1</td>\n",
       "      <td>1</td>\n",
       "      <td>1.0</td>\n",
       "      <td>1</td>\n",
       "      <td>1</td>\n",
       "      <td>1</td>\n",
       "      <td>1</td>\n",
       "      <td>1.0</td>\n",
       "      <td>1</td>\n",
       "      <td>1.0</td>\n",
       "      <td>1</td>\n",
       "      <td>1.0</td>\n",
       "      <td>1</td>\n",
       "      <td>1</td>\n",
       "    </tr>\n",
       "    <tr>\n",
       "      <td>1</td>\n",
       "      <td>1</td>\n",
       "      <td>2</td>\n",
       "      <td>1</td>\n",
       "      <td>2.0</td>\n",
       "      <td>1</td>\n",
       "      <td>2</td>\n",
       "      <td>2</td>\n",
       "      <td>2</td>\n",
       "      <td>1.0</td>\n",
       "      <td>2</td>\n",
       "      <td>2.0</td>\n",
       "      <td>2</td>\n",
       "      <td>1.0</td>\n",
       "      <td>2</td>\n",
       "      <td>1</td>\n",
       "    </tr>\n",
       "    <tr>\n",
       "      <td>2</td>\n",
       "      <td>1</td>\n",
       "      <td>3</td>\n",
       "      <td>1</td>\n",
       "      <td>2.0</td>\n",
       "      <td>1</td>\n",
       "      <td>1</td>\n",
       "      <td>3</td>\n",
       "      <td>1</td>\n",
       "      <td>2.0</td>\n",
       "      <td>1</td>\n",
       "      <td>3.0</td>\n",
       "      <td>2</td>\n",
       "      <td>1.0</td>\n",
       "      <td>1</td>\n",
       "      <td>2</td>\n",
       "    </tr>\n",
       "    <tr>\n",
       "      <td>3</td>\n",
       "      <td>1</td>\n",
       "      <td>1</td>\n",
       "      <td>1</td>\n",
       "      <td>2.0</td>\n",
       "      <td>1</td>\n",
       "      <td>3</td>\n",
       "      <td>3</td>\n",
       "      <td>2</td>\n",
       "      <td>1.0</td>\n",
       "      <td>1</td>\n",
       "      <td>4.0</td>\n",
       "      <td>2</td>\n",
       "      <td>1.0</td>\n",
       "      <td>1</td>\n",
       "      <td>2</td>\n",
       "    </tr>\n",
       "    <tr>\n",
       "      <td>4</td>\n",
       "      <td>1</td>\n",
       "      <td>3</td>\n",
       "      <td>1</td>\n",
       "      <td>2.0</td>\n",
       "      <td>2</td>\n",
       "      <td>1</td>\n",
       "      <td>4</td>\n",
       "      <td>2</td>\n",
       "      <td>1.0</td>\n",
       "      <td>2</td>\n",
       "      <td>2.0</td>\n",
       "      <td>3</td>\n",
       "      <td>2.0</td>\n",
       "      <td>2</td>\n",
       "      <td>2</td>\n",
       "    </tr>\n",
       "    <tr>\n",
       "      <td>...</td>\n",
       "      <td>...</td>\n",
       "      <td>...</td>\n",
       "      <td>...</td>\n",
       "      <td>...</td>\n",
       "      <td>...</td>\n",
       "      <td>...</td>\n",
       "      <td>...</td>\n",
       "      <td>...</td>\n",
       "      <td>...</td>\n",
       "      <td>...</td>\n",
       "      <td>...</td>\n",
       "      <td>...</td>\n",
       "      <td>...</td>\n",
       "      <td>...</td>\n",
       "      <td>...</td>\n",
       "    </tr>\n",
       "    <tr>\n",
       "      <td>1218</td>\n",
       "      <td>1</td>\n",
       "      <td>1</td>\n",
       "      <td>1</td>\n",
       "      <td>3.0</td>\n",
       "      <td>1</td>\n",
       "      <td>1</td>\n",
       "      <td>9</td>\n",
       "      <td>1</td>\n",
       "      <td>1.0</td>\n",
       "      <td>1</td>\n",
       "      <td>2.0</td>\n",
       "      <td>3</td>\n",
       "      <td>1.0</td>\n",
       "      <td>1</td>\n",
       "      <td>2</td>\n",
       "    </tr>\n",
       "    <tr>\n",
       "      <td>1219</td>\n",
       "      <td>1</td>\n",
       "      <td>3</td>\n",
       "      <td>1</td>\n",
       "      <td>2.0</td>\n",
       "      <td>1</td>\n",
       "      <td>3</td>\n",
       "      <td>9</td>\n",
       "      <td>2</td>\n",
       "      <td>1.0</td>\n",
       "      <td>5</td>\n",
       "      <td>6.0</td>\n",
       "      <td>3</td>\n",
       "      <td>4.0</td>\n",
       "      <td>1</td>\n",
       "      <td>2</td>\n",
       "    </tr>\n",
       "    <tr>\n",
       "      <td>1220</td>\n",
       "      <td>1</td>\n",
       "      <td>4</td>\n",
       "      <td>1</td>\n",
       "      <td>2.0</td>\n",
       "      <td>2</td>\n",
       "      <td>5</td>\n",
       "      <td>3</td>\n",
       "      <td>1</td>\n",
       "      <td>3.0</td>\n",
       "      <td>4</td>\n",
       "      <td>3.0</td>\n",
       "      <td>3</td>\n",
       "      <td>3.0</td>\n",
       "      <td>3</td>\n",
       "      <td>2</td>\n",
       "    </tr>\n",
       "    <tr>\n",
       "      <td>1221</td>\n",
       "      <td>1</td>\n",
       "      <td>3</td>\n",
       "      <td>1</td>\n",
       "      <td>2.0</td>\n",
       "      <td>2</td>\n",
       "      <td>5</td>\n",
       "      <td>3</td>\n",
       "      <td>1</td>\n",
       "      <td>1.0</td>\n",
       "      <td>4</td>\n",
       "      <td>3.0</td>\n",
       "      <td>3</td>\n",
       "      <td>1.0</td>\n",
       "      <td>1</td>\n",
       "      <td>2</td>\n",
       "    </tr>\n",
       "    <tr>\n",
       "      <td>1222</td>\n",
       "      <td>1</td>\n",
       "      <td>1</td>\n",
       "      <td>1</td>\n",
       "      <td>2.0</td>\n",
       "      <td>1</td>\n",
       "      <td>3</td>\n",
       "      <td>9</td>\n",
       "      <td>1</td>\n",
       "      <td>1.0</td>\n",
       "      <td>3</td>\n",
       "      <td>7.0</td>\n",
       "      <td>3</td>\n",
       "      <td>3.0</td>\n",
       "      <td>1</td>\n",
       "      <td>2</td>\n",
       "    </tr>\n",
       "  </tbody>\n",
       "</table>\n",
       "<p>1215 rows × 15 columns</p>\n",
       "</div>"
      ],
      "text/plain": [
       "      Target  Var1 Var2  Var3 Var4  Var5  Var6 Var7  Var8  Var9  Var10  Var11  \\\n",
       "0          1     1    1   1.0    1     1     1    1   1.0     1    1.0      1   \n",
       "1          1     2    1   2.0    1     2     2    2   1.0     2    2.0      2   \n",
       "2          1     3    1   2.0    1     1     3    1   2.0     1    3.0      2   \n",
       "3          1     1    1   2.0    1     3     3    2   1.0     1    4.0      2   \n",
       "4          1     3    1   2.0    2     1     4    2   1.0     2    2.0      3   \n",
       "...      ...   ...  ...   ...  ...   ...   ...  ...   ...   ...    ...    ...   \n",
       "1218       1     1    1   3.0    1     1     9    1   1.0     1    2.0      3   \n",
       "1219       1     3    1   2.0    1     3     9    2   1.0     5    6.0      3   \n",
       "1220       1     4    1   2.0    2     5     3    1   3.0     4    3.0      3   \n",
       "1221       1     3    1   2.0    2     5     3    1   1.0     4    3.0      3   \n",
       "1222       1     1    1   2.0    1     3     9    1   1.0     3    7.0      3   \n",
       "\n",
       "      Var12 Var13 Var14  \n",
       "0       1.0     1     1  \n",
       "1       1.0     2     1  \n",
       "2       1.0     1     2  \n",
       "3       1.0     1     2  \n",
       "4       2.0     2     2  \n",
       "...     ...   ...   ...  \n",
       "1218    1.0     1     2  \n",
       "1219    4.0     1     2  \n",
       "1220    3.0     3     2  \n",
       "1221    1.0     1     2  \n",
       "1222    3.0     1     2  \n",
       "\n",
       "[1215 rows x 15 columns]"
      ]
     },
     "execution_count": 35,
     "metadata": {},
     "output_type": "execute_result"
    }
   ],
   "source": [
    "df"
   ]
  },
  {
   "cell_type": "markdown",
   "metadata": {},
   "source": [
    "## Get Dummies"
   ]
  },
  {
   "cell_type": "code",
   "execution_count": 36,
   "metadata": {},
   "outputs": [],
   "source": [
    "df = pd.get_dummies(df,prefix_sep='_', drop_first=True)"
   ]
  },
  {
   "cell_type": "code",
   "execution_count": 37,
   "metadata": {},
   "outputs": [
    {
     "data": {
      "text/plain": [
       "Index(['Target', 'Var1', 'Var3', 'Var5', 'Var6', 'Var8', 'Var9', 'Var10',\n",
       "       'Var11', 'Var12', 'Var2_2', 'Var4_2.0', 'Var7_2', 'Var13_2', 'Var13_3',\n",
       "       'Var14_2.0'],\n",
       "      dtype='object')"
      ]
     },
     "execution_count": 37,
     "metadata": {},
     "output_type": "execute_result"
    }
   ],
   "source": [
    "df.columns"
   ]
  },
  {
   "cell_type": "code",
   "execution_count": 38,
   "metadata": {},
   "outputs": [
    {
     "data": {
      "text/plain": [
       "Target         int64\n",
       "Var1           int64\n",
       "Var3         float64\n",
       "Var5           int64\n",
       "Var6           int64\n",
       "Var8         float64\n",
       "Var9           int64\n",
       "Var10        float64\n",
       "Var11          int64\n",
       "Var12        float64\n",
       "Var2_2         uint8\n",
       "Var4_2.0       uint8\n",
       "Var7_2         uint8\n",
       "Var13_2        uint8\n",
       "Var13_3        uint8\n",
       "Var14_2.0      uint8\n",
       "dtype: object"
      ]
     },
     "execution_count": 38,
     "metadata": {},
     "output_type": "execute_result"
    }
   ],
   "source": [
    "df.dtypes"
   ]
  },
  {
   "cell_type": "code",
   "execution_count": 39,
   "metadata": {
    "scrolled": false
   },
   "outputs": [
    {
     "data": {
      "text/html": [
       "<div>\n",
       "<style scoped>\n",
       "    .dataframe tbody tr th:only-of-type {\n",
       "        vertical-align: middle;\n",
       "    }\n",
       "\n",
       "    .dataframe tbody tr th {\n",
       "        vertical-align: top;\n",
       "    }\n",
       "\n",
       "    .dataframe thead th {\n",
       "        text-align: right;\n",
       "    }\n",
       "</style>\n",
       "<table border=\"1\" class=\"dataframe\">\n",
       "  <thead>\n",
       "    <tr style=\"text-align: right;\">\n",
       "      <th></th>\n",
       "      <th>Target</th>\n",
       "      <th>Var1</th>\n",
       "      <th>Var3</th>\n",
       "      <th>Var5</th>\n",
       "      <th>Var6</th>\n",
       "      <th>Var8</th>\n",
       "      <th>Var9</th>\n",
       "      <th>Var10</th>\n",
       "      <th>Var11</th>\n",
       "      <th>Var12</th>\n",
       "      <th>Var2_2</th>\n",
       "      <th>Var4_2.0</th>\n",
       "      <th>Var7_2</th>\n",
       "      <th>Var13_2</th>\n",
       "      <th>Var13_3</th>\n",
       "      <th>Var14_2.0</th>\n",
       "    </tr>\n",
       "  </thead>\n",
       "  <tbody>\n",
       "    <tr>\n",
       "      <td>0</td>\n",
       "      <td>1</td>\n",
       "      <td>1</td>\n",
       "      <td>1.0</td>\n",
       "      <td>1</td>\n",
       "      <td>1</td>\n",
       "      <td>1.0</td>\n",
       "      <td>1</td>\n",
       "      <td>1.0</td>\n",
       "      <td>1</td>\n",
       "      <td>1.0</td>\n",
       "      <td>0</td>\n",
       "      <td>0</td>\n",
       "      <td>0</td>\n",
       "      <td>0</td>\n",
       "      <td>0</td>\n",
       "      <td>0</td>\n",
       "    </tr>\n",
       "    <tr>\n",
       "      <td>1</td>\n",
       "      <td>1</td>\n",
       "      <td>2</td>\n",
       "      <td>2.0</td>\n",
       "      <td>2</td>\n",
       "      <td>2</td>\n",
       "      <td>1.0</td>\n",
       "      <td>2</td>\n",
       "      <td>2.0</td>\n",
       "      <td>2</td>\n",
       "      <td>1.0</td>\n",
       "      <td>0</td>\n",
       "      <td>0</td>\n",
       "      <td>1</td>\n",
       "      <td>1</td>\n",
       "      <td>0</td>\n",
       "      <td>0</td>\n",
       "    </tr>\n",
       "    <tr>\n",
       "      <td>2</td>\n",
       "      <td>1</td>\n",
       "      <td>3</td>\n",
       "      <td>2.0</td>\n",
       "      <td>1</td>\n",
       "      <td>3</td>\n",
       "      <td>2.0</td>\n",
       "      <td>1</td>\n",
       "      <td>3.0</td>\n",
       "      <td>2</td>\n",
       "      <td>1.0</td>\n",
       "      <td>0</td>\n",
       "      <td>0</td>\n",
       "      <td>0</td>\n",
       "      <td>0</td>\n",
       "      <td>0</td>\n",
       "      <td>1</td>\n",
       "    </tr>\n",
       "    <tr>\n",
       "      <td>3</td>\n",
       "      <td>1</td>\n",
       "      <td>1</td>\n",
       "      <td>2.0</td>\n",
       "      <td>3</td>\n",
       "      <td>3</td>\n",
       "      <td>1.0</td>\n",
       "      <td>1</td>\n",
       "      <td>4.0</td>\n",
       "      <td>2</td>\n",
       "      <td>1.0</td>\n",
       "      <td>0</td>\n",
       "      <td>0</td>\n",
       "      <td>1</td>\n",
       "      <td>0</td>\n",
       "      <td>0</td>\n",
       "      <td>1</td>\n",
       "    </tr>\n",
       "    <tr>\n",
       "      <td>4</td>\n",
       "      <td>1</td>\n",
       "      <td>3</td>\n",
       "      <td>2.0</td>\n",
       "      <td>1</td>\n",
       "      <td>4</td>\n",
       "      <td>1.0</td>\n",
       "      <td>2</td>\n",
       "      <td>2.0</td>\n",
       "      <td>3</td>\n",
       "      <td>2.0</td>\n",
       "      <td>0</td>\n",
       "      <td>1</td>\n",
       "      <td>1</td>\n",
       "      <td>1</td>\n",
       "      <td>0</td>\n",
       "      <td>1</td>\n",
       "    </tr>\n",
       "    <tr>\n",
       "      <td>...</td>\n",
       "      <td>...</td>\n",
       "      <td>...</td>\n",
       "      <td>...</td>\n",
       "      <td>...</td>\n",
       "      <td>...</td>\n",
       "      <td>...</td>\n",
       "      <td>...</td>\n",
       "      <td>...</td>\n",
       "      <td>...</td>\n",
       "      <td>...</td>\n",
       "      <td>...</td>\n",
       "      <td>...</td>\n",
       "      <td>...</td>\n",
       "      <td>...</td>\n",
       "      <td>...</td>\n",
       "      <td>...</td>\n",
       "    </tr>\n",
       "    <tr>\n",
       "      <td>1218</td>\n",
       "      <td>1</td>\n",
       "      <td>1</td>\n",
       "      <td>3.0</td>\n",
       "      <td>1</td>\n",
       "      <td>9</td>\n",
       "      <td>1.0</td>\n",
       "      <td>1</td>\n",
       "      <td>2.0</td>\n",
       "      <td>3</td>\n",
       "      <td>1.0</td>\n",
       "      <td>0</td>\n",
       "      <td>0</td>\n",
       "      <td>0</td>\n",
       "      <td>0</td>\n",
       "      <td>0</td>\n",
       "      <td>1</td>\n",
       "    </tr>\n",
       "    <tr>\n",
       "      <td>1219</td>\n",
       "      <td>1</td>\n",
       "      <td>3</td>\n",
       "      <td>2.0</td>\n",
       "      <td>3</td>\n",
       "      <td>9</td>\n",
       "      <td>1.0</td>\n",
       "      <td>5</td>\n",
       "      <td>6.0</td>\n",
       "      <td>3</td>\n",
       "      <td>4.0</td>\n",
       "      <td>0</td>\n",
       "      <td>0</td>\n",
       "      <td>1</td>\n",
       "      <td>0</td>\n",
       "      <td>0</td>\n",
       "      <td>1</td>\n",
       "    </tr>\n",
       "    <tr>\n",
       "      <td>1220</td>\n",
       "      <td>1</td>\n",
       "      <td>4</td>\n",
       "      <td>2.0</td>\n",
       "      <td>5</td>\n",
       "      <td>3</td>\n",
       "      <td>3.0</td>\n",
       "      <td>4</td>\n",
       "      <td>3.0</td>\n",
       "      <td>3</td>\n",
       "      <td>3.0</td>\n",
       "      <td>0</td>\n",
       "      <td>1</td>\n",
       "      <td>0</td>\n",
       "      <td>0</td>\n",
       "      <td>1</td>\n",
       "      <td>1</td>\n",
       "    </tr>\n",
       "    <tr>\n",
       "      <td>1221</td>\n",
       "      <td>1</td>\n",
       "      <td>3</td>\n",
       "      <td>2.0</td>\n",
       "      <td>5</td>\n",
       "      <td>3</td>\n",
       "      <td>1.0</td>\n",
       "      <td>4</td>\n",
       "      <td>3.0</td>\n",
       "      <td>3</td>\n",
       "      <td>1.0</td>\n",
       "      <td>0</td>\n",
       "      <td>1</td>\n",
       "      <td>0</td>\n",
       "      <td>0</td>\n",
       "      <td>0</td>\n",
       "      <td>1</td>\n",
       "    </tr>\n",
       "    <tr>\n",
       "      <td>1222</td>\n",
       "      <td>1</td>\n",
       "      <td>1</td>\n",
       "      <td>2.0</td>\n",
       "      <td>3</td>\n",
       "      <td>9</td>\n",
       "      <td>1.0</td>\n",
       "      <td>3</td>\n",
       "      <td>7.0</td>\n",
       "      <td>3</td>\n",
       "      <td>3.0</td>\n",
       "      <td>0</td>\n",
       "      <td>0</td>\n",
       "      <td>0</td>\n",
       "      <td>0</td>\n",
       "      <td>0</td>\n",
       "      <td>1</td>\n",
       "    </tr>\n",
       "  </tbody>\n",
       "</table>\n",
       "<p>1215 rows × 16 columns</p>\n",
       "</div>"
      ],
      "text/plain": [
       "      Target  Var1  Var3  Var5  Var6  Var8  Var9  Var10  Var11  Var12  Var2_2  \\\n",
       "0          1     1   1.0     1     1   1.0     1    1.0      1    1.0       0   \n",
       "1          1     2   2.0     2     2   1.0     2    2.0      2    1.0       0   \n",
       "2          1     3   2.0     1     3   2.0     1    3.0      2    1.0       0   \n",
       "3          1     1   2.0     3     3   1.0     1    4.0      2    1.0       0   \n",
       "4          1     3   2.0     1     4   1.0     2    2.0      3    2.0       0   \n",
       "...      ...   ...   ...   ...   ...   ...   ...    ...    ...    ...     ...   \n",
       "1218       1     1   3.0     1     9   1.0     1    2.0      3    1.0       0   \n",
       "1219       1     3   2.0     3     9   1.0     5    6.0      3    4.0       0   \n",
       "1220       1     4   2.0     5     3   3.0     4    3.0      3    3.0       0   \n",
       "1221       1     3   2.0     5     3   1.0     4    3.0      3    1.0       0   \n",
       "1222       1     1   2.0     3     9   1.0     3    7.0      3    3.0       0   \n",
       "\n",
       "      Var4_2.0  Var7_2  Var13_2  Var13_3  Var14_2.0  \n",
       "0            0       0        0        0          0  \n",
       "1            0       1        1        0          0  \n",
       "2            0       0        0        0          1  \n",
       "3            0       1        0        0          1  \n",
       "4            1       1        1        0          1  \n",
       "...        ...     ...      ...      ...        ...  \n",
       "1218         0       0        0        0          1  \n",
       "1219         0       1        0        0          1  \n",
       "1220         1       0        0        1          1  \n",
       "1221         1       0        0        0          1  \n",
       "1222         0       0        0        0          1  \n",
       "\n",
       "[1215 rows x 16 columns]"
      ]
     },
     "execution_count": 39,
     "metadata": {},
     "output_type": "execute_result"
    }
   ],
   "source": [
    "df"
   ]
  },
  {
   "cell_type": "markdown",
   "metadata": {},
   "source": [
    "## Train and Test data split"
   ]
  },
  {
   "cell_type": "code",
   "execution_count": 40,
   "metadata": {},
   "outputs": [],
   "source": [
    "target = df.Target\n",
    "features = df.drop('Target',axis=1)"
   ]
  },
  {
   "cell_type": "code",
   "execution_count": 41,
   "metadata": {},
   "outputs": [
    {
     "data": {
      "text/html": [
       "<div>\n",
       "<style scoped>\n",
       "    .dataframe tbody tr th:only-of-type {\n",
       "        vertical-align: middle;\n",
       "    }\n",
       "\n",
       "    .dataframe tbody tr th {\n",
       "        vertical-align: top;\n",
       "    }\n",
       "\n",
       "    .dataframe thead th {\n",
       "        text-align: right;\n",
       "    }\n",
       "</style>\n",
       "<table border=\"1\" class=\"dataframe\">\n",
       "  <thead>\n",
       "    <tr style=\"text-align: right;\">\n",
       "      <th></th>\n",
       "      <th>Target</th>\n",
       "      <th>Var1</th>\n",
       "      <th>Var3</th>\n",
       "      <th>Var5</th>\n",
       "      <th>Var6</th>\n",
       "      <th>Var8</th>\n",
       "      <th>Var9</th>\n",
       "      <th>Var10</th>\n",
       "      <th>Var11</th>\n",
       "      <th>Var12</th>\n",
       "      <th>Var2_2</th>\n",
       "      <th>Var4_2.0</th>\n",
       "      <th>Var7_2</th>\n",
       "      <th>Var13_2</th>\n",
       "      <th>Var13_3</th>\n",
       "      <th>Var14_2.0</th>\n",
       "    </tr>\n",
       "  </thead>\n",
       "  <tbody>\n",
       "    <tr>\n",
       "      <td>0</td>\n",
       "      <td>1</td>\n",
       "      <td>1</td>\n",
       "      <td>1.0</td>\n",
       "      <td>1</td>\n",
       "      <td>1</td>\n",
       "      <td>1.0</td>\n",
       "      <td>1</td>\n",
       "      <td>1.0</td>\n",
       "      <td>1</td>\n",
       "      <td>1.0</td>\n",
       "      <td>0</td>\n",
       "      <td>0</td>\n",
       "      <td>0</td>\n",
       "      <td>0</td>\n",
       "      <td>0</td>\n",
       "      <td>0</td>\n",
       "    </tr>\n",
       "    <tr>\n",
       "      <td>1</td>\n",
       "      <td>1</td>\n",
       "      <td>2</td>\n",
       "      <td>2.0</td>\n",
       "      <td>2</td>\n",
       "      <td>2</td>\n",
       "      <td>1.0</td>\n",
       "      <td>2</td>\n",
       "      <td>2.0</td>\n",
       "      <td>2</td>\n",
       "      <td>1.0</td>\n",
       "      <td>0</td>\n",
       "      <td>0</td>\n",
       "      <td>1</td>\n",
       "      <td>1</td>\n",
       "      <td>0</td>\n",
       "      <td>0</td>\n",
       "    </tr>\n",
       "    <tr>\n",
       "      <td>2</td>\n",
       "      <td>1</td>\n",
       "      <td>3</td>\n",
       "      <td>2.0</td>\n",
       "      <td>1</td>\n",
       "      <td>3</td>\n",
       "      <td>2.0</td>\n",
       "      <td>1</td>\n",
       "      <td>3.0</td>\n",
       "      <td>2</td>\n",
       "      <td>1.0</td>\n",
       "      <td>0</td>\n",
       "      <td>0</td>\n",
       "      <td>0</td>\n",
       "      <td>0</td>\n",
       "      <td>0</td>\n",
       "      <td>1</td>\n",
       "    </tr>\n",
       "    <tr>\n",
       "      <td>3</td>\n",
       "      <td>1</td>\n",
       "      <td>1</td>\n",
       "      <td>2.0</td>\n",
       "      <td>3</td>\n",
       "      <td>3</td>\n",
       "      <td>1.0</td>\n",
       "      <td>1</td>\n",
       "      <td>4.0</td>\n",
       "      <td>2</td>\n",
       "      <td>1.0</td>\n",
       "      <td>0</td>\n",
       "      <td>0</td>\n",
       "      <td>1</td>\n",
       "      <td>0</td>\n",
       "      <td>0</td>\n",
       "      <td>1</td>\n",
       "    </tr>\n",
       "    <tr>\n",
       "      <td>4</td>\n",
       "      <td>1</td>\n",
       "      <td>3</td>\n",
       "      <td>2.0</td>\n",
       "      <td>1</td>\n",
       "      <td>4</td>\n",
       "      <td>1.0</td>\n",
       "      <td>2</td>\n",
       "      <td>2.0</td>\n",
       "      <td>3</td>\n",
       "      <td>2.0</td>\n",
       "      <td>0</td>\n",
       "      <td>1</td>\n",
       "      <td>1</td>\n",
       "      <td>1</td>\n",
       "      <td>0</td>\n",
       "      <td>1</td>\n",
       "    </tr>\n",
       "    <tr>\n",
       "      <td>...</td>\n",
       "      <td>...</td>\n",
       "      <td>...</td>\n",
       "      <td>...</td>\n",
       "      <td>...</td>\n",
       "      <td>...</td>\n",
       "      <td>...</td>\n",
       "      <td>...</td>\n",
       "      <td>...</td>\n",
       "      <td>...</td>\n",
       "      <td>...</td>\n",
       "      <td>...</td>\n",
       "      <td>...</td>\n",
       "      <td>...</td>\n",
       "      <td>...</td>\n",
       "      <td>...</td>\n",
       "      <td>...</td>\n",
       "    </tr>\n",
       "    <tr>\n",
       "      <td>1218</td>\n",
       "      <td>1</td>\n",
       "      <td>1</td>\n",
       "      <td>3.0</td>\n",
       "      <td>1</td>\n",
       "      <td>9</td>\n",
       "      <td>1.0</td>\n",
       "      <td>1</td>\n",
       "      <td>2.0</td>\n",
       "      <td>3</td>\n",
       "      <td>1.0</td>\n",
       "      <td>0</td>\n",
       "      <td>0</td>\n",
       "      <td>0</td>\n",
       "      <td>0</td>\n",
       "      <td>0</td>\n",
       "      <td>1</td>\n",
       "    </tr>\n",
       "    <tr>\n",
       "      <td>1219</td>\n",
       "      <td>1</td>\n",
       "      <td>3</td>\n",
       "      <td>2.0</td>\n",
       "      <td>3</td>\n",
       "      <td>9</td>\n",
       "      <td>1.0</td>\n",
       "      <td>5</td>\n",
       "      <td>6.0</td>\n",
       "      <td>3</td>\n",
       "      <td>4.0</td>\n",
       "      <td>0</td>\n",
       "      <td>0</td>\n",
       "      <td>1</td>\n",
       "      <td>0</td>\n",
       "      <td>0</td>\n",
       "      <td>1</td>\n",
       "    </tr>\n",
       "    <tr>\n",
       "      <td>1220</td>\n",
       "      <td>1</td>\n",
       "      <td>4</td>\n",
       "      <td>2.0</td>\n",
       "      <td>5</td>\n",
       "      <td>3</td>\n",
       "      <td>3.0</td>\n",
       "      <td>4</td>\n",
       "      <td>3.0</td>\n",
       "      <td>3</td>\n",
       "      <td>3.0</td>\n",
       "      <td>0</td>\n",
       "      <td>1</td>\n",
       "      <td>0</td>\n",
       "      <td>0</td>\n",
       "      <td>1</td>\n",
       "      <td>1</td>\n",
       "    </tr>\n",
       "    <tr>\n",
       "      <td>1221</td>\n",
       "      <td>1</td>\n",
       "      <td>3</td>\n",
       "      <td>2.0</td>\n",
       "      <td>5</td>\n",
       "      <td>3</td>\n",
       "      <td>1.0</td>\n",
       "      <td>4</td>\n",
       "      <td>3.0</td>\n",
       "      <td>3</td>\n",
       "      <td>1.0</td>\n",
       "      <td>0</td>\n",
       "      <td>1</td>\n",
       "      <td>0</td>\n",
       "      <td>0</td>\n",
       "      <td>0</td>\n",
       "      <td>1</td>\n",
       "    </tr>\n",
       "    <tr>\n",
       "      <td>1222</td>\n",
       "      <td>1</td>\n",
       "      <td>1</td>\n",
       "      <td>2.0</td>\n",
       "      <td>3</td>\n",
       "      <td>9</td>\n",
       "      <td>1.0</td>\n",
       "      <td>3</td>\n",
       "      <td>7.0</td>\n",
       "      <td>3</td>\n",
       "      <td>3.0</td>\n",
       "      <td>0</td>\n",
       "      <td>0</td>\n",
       "      <td>0</td>\n",
       "      <td>0</td>\n",
       "      <td>0</td>\n",
       "      <td>1</td>\n",
       "    </tr>\n",
       "  </tbody>\n",
       "</table>\n",
       "<p>1215 rows × 16 columns</p>\n",
       "</div>"
      ],
      "text/plain": [
       "      Target  Var1  Var3  Var5  Var6  Var8  Var9  Var10  Var11  Var12  Var2_2  \\\n",
       "0          1     1   1.0     1     1   1.0     1    1.0      1    1.0       0   \n",
       "1          1     2   2.0     2     2   1.0     2    2.0      2    1.0       0   \n",
       "2          1     3   2.0     1     3   2.0     1    3.0      2    1.0       0   \n",
       "3          1     1   2.0     3     3   1.0     1    4.0      2    1.0       0   \n",
       "4          1     3   2.0     1     4   1.0     2    2.0      3    2.0       0   \n",
       "...      ...   ...   ...   ...   ...   ...   ...    ...    ...    ...     ...   \n",
       "1218       1     1   3.0     1     9   1.0     1    2.0      3    1.0       0   \n",
       "1219       1     3   2.0     3     9   1.0     5    6.0      3    4.0       0   \n",
       "1220       1     4   2.0     5     3   3.0     4    3.0      3    3.0       0   \n",
       "1221       1     3   2.0     5     3   1.0     4    3.0      3    1.0       0   \n",
       "1222       1     1   2.0     3     9   1.0     3    7.0      3    3.0       0   \n",
       "\n",
       "      Var4_2.0  Var7_2  Var13_2  Var13_3  Var14_2.0  \n",
       "0            0       0        0        0          0  \n",
       "1            0       1        1        0          0  \n",
       "2            0       0        0        0          1  \n",
       "3            0       1        0        0          1  \n",
       "4            1       1        1        0          1  \n",
       "...        ...     ...      ...      ...        ...  \n",
       "1218         0       0        0        0          1  \n",
       "1219         0       1        0        0          1  \n",
       "1220         1       0        0        1          1  \n",
       "1221         1       0        0        0          1  \n",
       "1222         0       0        0        0          1  \n",
       "\n",
       "[1215 rows x 16 columns]"
      ]
     },
     "execution_count": 41,
     "metadata": {},
     "output_type": "execute_result"
    }
   ],
   "source": [
    "df"
   ]
  },
  {
   "cell_type": "code",
   "execution_count": 42,
   "metadata": {},
   "outputs": [
    {
     "data": {
      "text/plain": [
       "0       1\n",
       "1       1\n",
       "2       1\n",
       "3       1\n",
       "4       1\n",
       "       ..\n",
       "1218    1\n",
       "1219    1\n",
       "1220    1\n",
       "1221    1\n",
       "1222    1\n",
       "Name: Target, Length: 1215, dtype: int64"
      ]
     },
     "execution_count": 42,
     "metadata": {},
     "output_type": "execute_result"
    }
   ],
   "source": [
    "target"
   ]
  },
  {
   "cell_type": "code",
   "execution_count": 43,
   "metadata": {},
   "outputs": [
    {
     "data": {
      "text/html": [
       "<div>\n",
       "<style scoped>\n",
       "    .dataframe tbody tr th:only-of-type {\n",
       "        vertical-align: middle;\n",
       "    }\n",
       "\n",
       "    .dataframe tbody tr th {\n",
       "        vertical-align: top;\n",
       "    }\n",
       "\n",
       "    .dataframe thead th {\n",
       "        text-align: right;\n",
       "    }\n",
       "</style>\n",
       "<table border=\"1\" class=\"dataframe\">\n",
       "  <thead>\n",
       "    <tr style=\"text-align: right;\">\n",
       "      <th></th>\n",
       "      <th>Var1</th>\n",
       "      <th>Var3</th>\n",
       "      <th>Var5</th>\n",
       "      <th>Var6</th>\n",
       "      <th>Var8</th>\n",
       "      <th>Var9</th>\n",
       "      <th>Var10</th>\n",
       "      <th>Var11</th>\n",
       "      <th>Var12</th>\n",
       "      <th>Var2_2</th>\n",
       "      <th>Var4_2.0</th>\n",
       "      <th>Var7_2</th>\n",
       "      <th>Var13_2</th>\n",
       "      <th>Var13_3</th>\n",
       "      <th>Var14_2.0</th>\n",
       "    </tr>\n",
       "  </thead>\n",
       "  <tbody>\n",
       "    <tr>\n",
       "      <td>0</td>\n",
       "      <td>1</td>\n",
       "      <td>1.0</td>\n",
       "      <td>1</td>\n",
       "      <td>1</td>\n",
       "      <td>1.0</td>\n",
       "      <td>1</td>\n",
       "      <td>1.0</td>\n",
       "      <td>1</td>\n",
       "      <td>1.0</td>\n",
       "      <td>0</td>\n",
       "      <td>0</td>\n",
       "      <td>0</td>\n",
       "      <td>0</td>\n",
       "      <td>0</td>\n",
       "      <td>0</td>\n",
       "    </tr>\n",
       "    <tr>\n",
       "      <td>1</td>\n",
       "      <td>2</td>\n",
       "      <td>2.0</td>\n",
       "      <td>2</td>\n",
       "      <td>2</td>\n",
       "      <td>1.0</td>\n",
       "      <td>2</td>\n",
       "      <td>2.0</td>\n",
       "      <td>2</td>\n",
       "      <td>1.0</td>\n",
       "      <td>0</td>\n",
       "      <td>0</td>\n",
       "      <td>1</td>\n",
       "      <td>1</td>\n",
       "      <td>0</td>\n",
       "      <td>0</td>\n",
       "    </tr>\n",
       "    <tr>\n",
       "      <td>2</td>\n",
       "      <td>3</td>\n",
       "      <td>2.0</td>\n",
       "      <td>1</td>\n",
       "      <td>3</td>\n",
       "      <td>2.0</td>\n",
       "      <td>1</td>\n",
       "      <td>3.0</td>\n",
       "      <td>2</td>\n",
       "      <td>1.0</td>\n",
       "      <td>0</td>\n",
       "      <td>0</td>\n",
       "      <td>0</td>\n",
       "      <td>0</td>\n",
       "      <td>0</td>\n",
       "      <td>1</td>\n",
       "    </tr>\n",
       "    <tr>\n",
       "      <td>3</td>\n",
       "      <td>1</td>\n",
       "      <td>2.0</td>\n",
       "      <td>3</td>\n",
       "      <td>3</td>\n",
       "      <td>1.0</td>\n",
       "      <td>1</td>\n",
       "      <td>4.0</td>\n",
       "      <td>2</td>\n",
       "      <td>1.0</td>\n",
       "      <td>0</td>\n",
       "      <td>0</td>\n",
       "      <td>1</td>\n",
       "      <td>0</td>\n",
       "      <td>0</td>\n",
       "      <td>1</td>\n",
       "    </tr>\n",
       "    <tr>\n",
       "      <td>4</td>\n",
       "      <td>3</td>\n",
       "      <td>2.0</td>\n",
       "      <td>1</td>\n",
       "      <td>4</td>\n",
       "      <td>1.0</td>\n",
       "      <td>2</td>\n",
       "      <td>2.0</td>\n",
       "      <td>3</td>\n",
       "      <td>2.0</td>\n",
       "      <td>0</td>\n",
       "      <td>1</td>\n",
       "      <td>1</td>\n",
       "      <td>1</td>\n",
       "      <td>0</td>\n",
       "      <td>1</td>\n",
       "    </tr>\n",
       "    <tr>\n",
       "      <td>...</td>\n",
       "      <td>...</td>\n",
       "      <td>...</td>\n",
       "      <td>...</td>\n",
       "      <td>...</td>\n",
       "      <td>...</td>\n",
       "      <td>...</td>\n",
       "      <td>...</td>\n",
       "      <td>...</td>\n",
       "      <td>...</td>\n",
       "      <td>...</td>\n",
       "      <td>...</td>\n",
       "      <td>...</td>\n",
       "      <td>...</td>\n",
       "      <td>...</td>\n",
       "      <td>...</td>\n",
       "    </tr>\n",
       "    <tr>\n",
       "      <td>1218</td>\n",
       "      <td>1</td>\n",
       "      <td>3.0</td>\n",
       "      <td>1</td>\n",
       "      <td>9</td>\n",
       "      <td>1.0</td>\n",
       "      <td>1</td>\n",
       "      <td>2.0</td>\n",
       "      <td>3</td>\n",
       "      <td>1.0</td>\n",
       "      <td>0</td>\n",
       "      <td>0</td>\n",
       "      <td>0</td>\n",
       "      <td>0</td>\n",
       "      <td>0</td>\n",
       "      <td>1</td>\n",
       "    </tr>\n",
       "    <tr>\n",
       "      <td>1219</td>\n",
       "      <td>3</td>\n",
       "      <td>2.0</td>\n",
       "      <td>3</td>\n",
       "      <td>9</td>\n",
       "      <td>1.0</td>\n",
       "      <td>5</td>\n",
       "      <td>6.0</td>\n",
       "      <td>3</td>\n",
       "      <td>4.0</td>\n",
       "      <td>0</td>\n",
       "      <td>0</td>\n",
       "      <td>1</td>\n",
       "      <td>0</td>\n",
       "      <td>0</td>\n",
       "      <td>1</td>\n",
       "    </tr>\n",
       "    <tr>\n",
       "      <td>1220</td>\n",
       "      <td>4</td>\n",
       "      <td>2.0</td>\n",
       "      <td>5</td>\n",
       "      <td>3</td>\n",
       "      <td>3.0</td>\n",
       "      <td>4</td>\n",
       "      <td>3.0</td>\n",
       "      <td>3</td>\n",
       "      <td>3.0</td>\n",
       "      <td>0</td>\n",
       "      <td>1</td>\n",
       "      <td>0</td>\n",
       "      <td>0</td>\n",
       "      <td>1</td>\n",
       "      <td>1</td>\n",
       "    </tr>\n",
       "    <tr>\n",
       "      <td>1221</td>\n",
       "      <td>3</td>\n",
       "      <td>2.0</td>\n",
       "      <td>5</td>\n",
       "      <td>3</td>\n",
       "      <td>1.0</td>\n",
       "      <td>4</td>\n",
       "      <td>3.0</td>\n",
       "      <td>3</td>\n",
       "      <td>1.0</td>\n",
       "      <td>0</td>\n",
       "      <td>1</td>\n",
       "      <td>0</td>\n",
       "      <td>0</td>\n",
       "      <td>0</td>\n",
       "      <td>1</td>\n",
       "    </tr>\n",
       "    <tr>\n",
       "      <td>1222</td>\n",
       "      <td>1</td>\n",
       "      <td>2.0</td>\n",
       "      <td>3</td>\n",
       "      <td>9</td>\n",
       "      <td>1.0</td>\n",
       "      <td>3</td>\n",
       "      <td>7.0</td>\n",
       "      <td>3</td>\n",
       "      <td>3.0</td>\n",
       "      <td>0</td>\n",
       "      <td>0</td>\n",
       "      <td>0</td>\n",
       "      <td>0</td>\n",
       "      <td>0</td>\n",
       "      <td>1</td>\n",
       "    </tr>\n",
       "  </tbody>\n",
       "</table>\n",
       "<p>1215 rows × 15 columns</p>\n",
       "</div>"
      ],
      "text/plain": [
       "      Var1  Var3  Var5  Var6  Var8  Var9  Var10  Var11  Var12  Var2_2  \\\n",
       "0        1   1.0     1     1   1.0     1    1.0      1    1.0       0   \n",
       "1        2   2.0     2     2   1.0     2    2.0      2    1.0       0   \n",
       "2        3   2.0     1     3   2.0     1    3.0      2    1.0       0   \n",
       "3        1   2.0     3     3   1.0     1    4.0      2    1.0       0   \n",
       "4        3   2.0     1     4   1.0     2    2.0      3    2.0       0   \n",
       "...    ...   ...   ...   ...   ...   ...    ...    ...    ...     ...   \n",
       "1218     1   3.0     1     9   1.0     1    2.0      3    1.0       0   \n",
       "1219     3   2.0     3     9   1.0     5    6.0      3    4.0       0   \n",
       "1220     4   2.0     5     3   3.0     4    3.0      3    3.0       0   \n",
       "1221     3   2.0     5     3   1.0     4    3.0      3    1.0       0   \n",
       "1222     1   2.0     3     9   1.0     3    7.0      3    3.0       0   \n",
       "\n",
       "      Var4_2.0  Var7_2  Var13_2  Var13_3  Var14_2.0  \n",
       "0            0       0        0        0          0  \n",
       "1            0       1        1        0          0  \n",
       "2            0       0        0        0          1  \n",
       "3            0       1        0        0          1  \n",
       "4            1       1        1        0          1  \n",
       "...        ...     ...      ...      ...        ...  \n",
       "1218         0       0        0        0          1  \n",
       "1219         0       1        0        0          1  \n",
       "1220         1       0        0        1          1  \n",
       "1221         1       0        0        0          1  \n",
       "1222         0       0        0        0          1  \n",
       "\n",
       "[1215 rows x 15 columns]"
      ]
     },
     "execution_count": 43,
     "metadata": {},
     "output_type": "execute_result"
    }
   ],
   "source": [
    "features"
   ]
  },
  {
   "cell_type": "code",
   "execution_count": 44,
   "metadata": {},
   "outputs": [],
   "source": [
    "x_train, x_test, y_train, y_test = train_test_split(features, target, test_size=0.3)"
   ]
  },
  {
   "cell_type": "code",
   "execution_count": 45,
   "metadata": {},
   "outputs": [
    {
     "name": "stdout",
     "output_type": "stream",
     "text": [
      "(850, 15) (850,)\n",
      "(365, 15) (365,)\n"
     ]
    }
   ],
   "source": [
    "print (x_train.shape, y_train.shape)\n",
    "print (x_test.shape, y_test.shape)"
   ]
  },
  {
   "cell_type": "markdown",
   "metadata": {},
   "source": [
    "## Decision Tree"
   ]
  },
  {
   "cell_type": "code",
   "execution_count": 46,
   "metadata": {},
   "outputs": [],
   "source": [
    "# Create Decision Tree classifer object\n",
    "clf = DecisionTreeClassifier()\n",
    "\n",
    "# Train Decision Tree Classifer\n",
    "clf = clf.fit(x_train,y_train)\n",
    "\n",
    "#Predict the response for test dataset\n",
    "y_pred = clf.predict(x_test)"
   ]
  },
  {
   "cell_type": "code",
   "execution_count": 47,
   "metadata": {},
   "outputs": [
    {
     "name": "stdout",
     "output_type": "stream",
     "text": [
      "Accuracy: 0.7095890410958904\n"
     ]
    }
   ],
   "source": [
    "print(\"Accuracy:\",metrics.accuracy_score(y_test, y_pred))"
   ]
  },
  {
   "cell_type": "code",
   "execution_count": 48,
   "metadata": {},
   "outputs": [
    {
     "name": "stdout",
     "output_type": "stream",
     "text": [
      "[[256  51]\n",
      " [ 55   3]]\n",
      "              precision    recall  f1-score   support\n",
      "\n",
      "           1       0.82      0.83      0.83       307\n",
      "           2       0.06      0.05      0.05        58\n",
      "\n",
      "    accuracy                           0.71       365\n",
      "   macro avg       0.44      0.44      0.44       365\n",
      "weighted avg       0.70      0.71      0.71       365\n",
      "\n",
      "0.7095890410958904\n"
     ]
    }
   ],
   "source": [
    "print(confusion_matrix(y_test,y_pred))\n",
    "print(classification_report(y_test,y_pred))\n",
    "print(accuracy_score(y_test, y_pred))"
   ]
  },
  {
   "cell_type": "code",
   "execution_count": 49,
   "metadata": {},
   "outputs": [
    {
     "name": "stdout",
     "output_type": "stream",
     "text": [
      "Mean Absolute Error: 0.29041095890410956\n",
      "Mean Squared Error: 0.29041095890410956\n",
      "Root Mean Squared Error: 0.5388979113933451\n"
     ]
    }
   ],
   "source": [
    "print('Mean Absolute Error:', metrics.mean_absolute_error(y_test, y_pred))\n",
    "print('Mean Squared Error:', metrics.mean_squared_error(y_test, y_pred))\n",
    "print('Root Mean Squared Error:', np.sqrt(metrics.mean_squared_error(y_test, y_pred)))"
   ]
  },
  {
   "cell_type": "markdown",
   "metadata": {},
   "source": [
    "## Random Forest"
   ]
  },
  {
   "cell_type": "code",
   "execution_count": 50,
   "metadata": {},
   "outputs": [],
   "source": [
    "clf=RandomForestClassifier(n_estimators=30, random_state=0)\n",
    "clf.fit(x_train,y_train)\n",
    "\n",
    "y_pred=clf.predict(x_test)"
   ]
  },
  {
   "cell_type": "code",
   "execution_count": 51,
   "metadata": {},
   "outputs": [
    {
     "data": {
      "text/plain": [
       "array([1, 1, 1, 1, 1, 1, 1, 1, 1, 1, 1, 1, 1, 1, 1, 1, 1, 1, 1, 2, 1, 1,\n",
       "       1, 1, 1, 1, 2, 1, 1, 1, 1, 1, 1, 1, 1, 1, 1, 1, 1, 1, 1, 1, 1, 1,\n",
       "       1, 1, 1, 1, 1, 1, 1, 1, 1, 1, 1, 1, 1, 1, 1, 1, 1, 1, 1, 1, 1, 1,\n",
       "       1, 1, 1, 1, 1, 1, 1, 1, 1, 1, 1, 1, 1, 1, 1, 1, 1, 1, 1, 1, 1, 1,\n",
       "       1, 1, 1, 1, 1, 2, 1, 1, 1, 1, 1, 1, 1, 1, 1, 1, 1, 1, 1, 1, 1, 1,\n",
       "       1, 1, 1, 1, 1, 1, 1, 1, 1, 1, 1, 1, 1, 1, 1, 1, 1, 1, 1, 1, 1, 1,\n",
       "       1, 1, 1, 1, 1, 1, 1, 1, 1, 1, 1, 1, 1, 1, 1, 1, 1, 1, 1, 1, 1, 1,\n",
       "       1, 1, 1, 1, 1, 1, 1, 1, 1, 1, 1, 1, 1, 1, 1, 1, 1, 1, 1, 1, 1, 1,\n",
       "       1, 1, 1, 1, 1, 1, 1, 1, 1, 1, 1, 1, 1, 1, 1, 1, 1, 1, 1, 1, 1, 1,\n",
       "       1, 1, 1, 1, 1, 1, 1, 1, 1, 1, 1, 1, 1, 1, 1, 1, 1, 1, 1, 1, 1, 1,\n",
       "       1, 1, 1, 1, 1, 1, 1, 1, 1, 1, 1, 1, 1, 1, 1, 1, 1, 1, 1, 1, 1, 1,\n",
       "       1, 1, 1, 1, 1, 1, 1, 1, 1, 1, 1, 1, 1, 1, 1, 1, 1, 1, 1, 1, 1, 1,\n",
       "       1, 1, 1, 1, 1, 1, 1, 1, 1, 1, 1, 1, 1, 1, 1, 1, 1, 1, 1, 1, 1, 1,\n",
       "       1, 1, 1, 1, 1, 1, 1, 1, 1, 1, 1, 1, 1, 1, 1, 1, 1, 1, 1, 1, 1, 1,\n",
       "       1, 1, 1, 1, 1, 1, 1, 1, 1, 1, 1, 1, 1, 1, 1, 1, 1, 1, 1, 1, 1, 1,\n",
       "       1, 1, 1, 1, 1, 1, 1, 1, 1, 1, 1, 1, 1, 1, 1, 1, 1, 1, 1, 1, 1, 1,\n",
       "       1, 1, 1, 1, 1, 1, 1, 1, 1, 1, 1, 1, 1])"
      ]
     },
     "execution_count": 51,
     "metadata": {},
     "output_type": "execute_result"
    }
   ],
   "source": [
    "y_pred"
   ]
  },
  {
   "cell_type": "code",
   "execution_count": 52,
   "metadata": {},
   "outputs": [
    {
     "name": "stdout",
     "output_type": "stream",
     "text": [
      "Accuracy: 0.8328767123287671\n"
     ]
    }
   ],
   "source": [
    "print(\"Accuracy:\",metrics.accuracy_score(y_test, y_pred))"
   ]
  },
  {
   "cell_type": "code",
   "execution_count": 53,
   "metadata": {},
   "outputs": [
    {
     "name": "stdout",
     "output_type": "stream",
     "text": [
      "[[304   3]\n",
      " [ 58   0]]\n",
      "              precision    recall  f1-score   support\n",
      "\n",
      "           1       0.84      0.99      0.91       307\n",
      "           2       0.00      0.00      0.00        58\n",
      "\n",
      "    accuracy                           0.83       365\n",
      "   macro avg       0.42      0.50      0.45       365\n",
      "weighted avg       0.71      0.83      0.76       365\n",
      "\n",
      "0.8328767123287671\n"
     ]
    }
   ],
   "source": [
    "print(confusion_matrix(y_test,y_pred))\n",
    "print(classification_report(y_test,y_pred))\n",
    "print(accuracy_score(y_test, y_pred))"
   ]
  },
  {
   "cell_type": "code",
   "execution_count": 54,
   "metadata": {},
   "outputs": [
    {
     "name": "stdout",
     "output_type": "stream",
     "text": [
      "Mean Absolute Error: 0.16712328767123288\n",
      "Mean Squared Error: 0.16712328767123288\n",
      "Root Mean Squared Error: 0.40880715217720065\n"
     ]
    }
   ],
   "source": [
    "print('Mean Absolute Error:', metrics.mean_absolute_error(y_test, y_pred))\n",
    "print('Mean Squared Error:', metrics.mean_squared_error(y_test, y_pred))\n",
    "print('Root Mean Squared Error:', np.sqrt(metrics.mean_squared_error(y_test, y_pred)))"
   ]
  },
  {
   "cell_type": "markdown",
   "metadata": {},
   "source": [
    "### from the confusion matrix we can observed that false negative value i.e 39 is high because of the imbalance data set and the true negative value is 0 because the model is trained very poor\n",
    "\n",
    "### In the dataset the number of cases for output 1(Good) is around 1047 and for output 2(bad) is 176, so the model may perform poorly when predicting output 2 and it has performed well in predicting output 1."
   ]
  },
  {
   "cell_type": "markdown",
   "metadata": {},
   "source": [
    "## SVM Algorithm "
   ]
  },
  {
   "cell_type": "code",
   "execution_count": 55,
   "metadata": {},
   "outputs": [],
   "source": [
    "clf = svm.SVC(kernel='linear') # Linear Kernel\n",
    "\n",
    "clf.fit(x_train, y_train)\n",
    "\n",
    "y_pred = clf.predict(x_test)"
   ]
  },
  {
   "cell_type": "code",
   "execution_count": 56,
   "metadata": {},
   "outputs": [
    {
     "data": {
      "text/plain": [
       "array([1, 1, 1, 1, 1, 1, 1, 1, 1, 1, 1, 1, 1, 1, 1, 1, 1, 1, 1, 1, 1, 1,\n",
       "       1, 1, 1, 1, 1, 1, 1, 1, 1, 1, 1, 1, 1, 1, 1, 1, 1, 1, 1, 1, 1, 1,\n",
       "       1, 1, 1, 1, 1, 1, 1, 1, 1, 1, 1, 1, 1, 1, 1, 1, 1, 1, 1, 1, 1, 1,\n",
       "       1, 1, 1, 1, 1, 1, 1, 1, 1, 1, 1, 1, 1, 1, 1, 1, 1, 1, 1, 1, 1, 1,\n",
       "       1, 1, 1, 1, 1, 1, 1, 1, 1, 1, 1, 1, 1, 1, 1, 1, 1, 1, 1, 1, 1, 1,\n",
       "       1, 1, 1, 1, 1, 1, 1, 1, 1, 1, 1, 1, 1, 1, 1, 1, 1, 1, 1, 1, 1, 1,\n",
       "       1, 1, 1, 1, 1, 1, 1, 1, 1, 1, 1, 1, 1, 1, 1, 1, 1, 1, 1, 1, 1, 1,\n",
       "       1, 1, 1, 1, 1, 1, 1, 1, 1, 1, 1, 1, 1, 1, 1, 1, 1, 1, 1, 1, 1, 1,\n",
       "       1, 1, 1, 1, 1, 1, 1, 1, 1, 1, 1, 1, 1, 1, 1, 1, 1, 1, 1, 1, 1, 1,\n",
       "       1, 1, 1, 1, 1, 1, 1, 1, 1, 1, 1, 1, 1, 1, 1, 1, 1, 1, 1, 1, 1, 1,\n",
       "       1, 1, 1, 1, 1, 1, 1, 1, 1, 1, 1, 1, 1, 1, 1, 1, 1, 1, 1, 1, 1, 1,\n",
       "       1, 1, 1, 1, 1, 1, 1, 1, 1, 1, 1, 1, 1, 1, 1, 1, 1, 1, 1, 1, 1, 1,\n",
       "       1, 1, 1, 1, 1, 1, 1, 1, 1, 1, 1, 1, 1, 1, 1, 1, 1, 1, 1, 1, 1, 1,\n",
       "       1, 1, 1, 1, 1, 1, 1, 1, 1, 1, 1, 1, 1, 1, 1, 1, 1, 1, 1, 1, 1, 1,\n",
       "       1, 1, 1, 1, 1, 1, 1, 1, 1, 1, 1, 1, 1, 1, 1, 1, 1, 1, 1, 1, 1, 1,\n",
       "       1, 1, 1, 1, 1, 1, 1, 1, 1, 1, 1, 1, 1, 1, 1, 1, 1, 1, 1, 1, 1, 1,\n",
       "       1, 1, 1, 1, 1, 1, 1, 1, 1, 1, 1, 1, 1])"
      ]
     },
     "execution_count": 56,
     "metadata": {},
     "output_type": "execute_result"
    }
   ],
   "source": [
    "y_pred"
   ]
  },
  {
   "cell_type": "code",
   "execution_count": 57,
   "metadata": {},
   "outputs": [
    {
     "name": "stdout",
     "output_type": "stream",
     "text": [
      "Accuracy: 0.8410958904109589\n"
     ]
    }
   ],
   "source": [
    "print(\"Accuracy:\",metrics.accuracy_score(y_test, y_pred))"
   ]
  },
  {
   "cell_type": "code",
   "execution_count": 58,
   "metadata": {},
   "outputs": [
    {
     "name": "stdout",
     "output_type": "stream",
     "text": [
      "[[307   0]\n",
      " [ 58   0]]\n",
      "              precision    recall  f1-score   support\n",
      "\n",
      "           1       0.84      1.00      0.91       307\n",
      "           2       0.00      0.00      0.00        58\n",
      "\n",
      "    accuracy                           0.84       365\n",
      "   macro avg       0.42      0.50      0.46       365\n",
      "weighted avg       0.71      0.84      0.77       365\n",
      "\n",
      "0.8410958904109589\n"
     ]
    },
    {
     "name": "stderr",
     "output_type": "stream",
     "text": [
      "/Users/imrozmohiuddin/opt/anaconda3/lib/python3.7/site-packages/sklearn/metrics/_classification.py:1221: UndefinedMetricWarning: Precision and F-score are ill-defined and being set to 0.0 in labels with no predicted samples. Use `zero_division` parameter to control this behavior.\n",
      "  _warn_prf(average, modifier, msg_start, len(result))\n"
     ]
    }
   ],
   "source": [
    "print(confusion_matrix(y_test,y_pred))\n",
    "print(classification_report(y_test,y_pred))\n",
    "print(accuracy_score(y_test, y_pred))"
   ]
  },
  {
   "cell_type": "code",
   "execution_count": 59,
   "metadata": {},
   "outputs": [
    {
     "name": "stdout",
     "output_type": "stream",
     "text": [
      "Mean Absolute Error: 0.1589041095890411\n",
      "Mean Squared Error: 0.1589041095890411\n",
      "Root Mean Squared Error: 0.3986277832628342\n"
     ]
    }
   ],
   "source": [
    "print('Mean Absolute Error:', metrics.mean_absolute_error(y_test, y_pred))\n",
    "print('Mean Squared Error:', metrics.mean_squared_error(y_test, y_pred))\n",
    "print('Root Mean Squared Error:', np.sqrt(metrics.mean_squared_error(y_test, y_pred)))"
   ]
  },
  {
   "cell_type": "code",
   "execution_count": 60,
   "metadata": {},
   "outputs": [],
   "source": [
    "clf = svm.SVC(kernel='rbf') # Radial Basis Function (RBF) Kernel\n",
    "\n",
    "clf.fit(x_train, y_train)\n",
    "\n",
    "y_pred = clf.predict(x_test)"
   ]
  },
  {
   "cell_type": "code",
   "execution_count": 61,
   "metadata": {},
   "outputs": [
    {
     "data": {
      "text/plain": [
       "array([1, 1, 1, 1, 1, 1, 1, 1, 1, 1, 1, 1, 1, 1, 1, 1, 1, 1, 1, 1, 1, 1,\n",
       "       1, 1, 1, 1, 1, 1, 1, 1, 1, 1, 1, 1, 1, 1, 1, 1, 1, 1, 1, 1, 1, 1,\n",
       "       1, 1, 1, 1, 1, 1, 1, 1, 1, 1, 1, 1, 1, 1, 1, 1, 1, 1, 1, 1, 1, 1,\n",
       "       1, 1, 1, 1, 1, 1, 1, 1, 1, 1, 1, 1, 1, 1, 1, 1, 1, 1, 1, 1, 1, 1,\n",
       "       1, 1, 1, 1, 1, 1, 1, 1, 1, 1, 1, 1, 1, 1, 1, 1, 1, 1, 1, 1, 1, 1,\n",
       "       1, 1, 1, 1, 1, 1, 1, 1, 1, 1, 1, 1, 1, 1, 1, 1, 1, 1, 1, 1, 1, 1,\n",
       "       1, 1, 1, 1, 1, 1, 1, 1, 1, 1, 1, 1, 1, 1, 1, 1, 1, 1, 1, 1, 1, 1,\n",
       "       1, 1, 1, 1, 1, 1, 1, 1, 1, 1, 1, 1, 1, 1, 1, 1, 1, 1, 1, 1, 1, 1,\n",
       "       1, 1, 1, 1, 1, 1, 1, 1, 1, 1, 1, 1, 1, 1, 1, 1, 1, 1, 1, 1, 1, 1,\n",
       "       1, 1, 1, 1, 1, 1, 1, 1, 1, 1, 1, 1, 1, 1, 1, 1, 1, 1, 1, 1, 1, 1,\n",
       "       1, 1, 1, 1, 1, 1, 1, 1, 1, 1, 1, 1, 1, 1, 1, 1, 1, 1, 1, 1, 1, 1,\n",
       "       1, 1, 1, 1, 1, 1, 1, 1, 1, 1, 1, 1, 1, 1, 1, 1, 1, 1, 1, 1, 1, 1,\n",
       "       1, 1, 1, 1, 1, 1, 1, 1, 1, 1, 1, 1, 1, 1, 1, 1, 1, 1, 1, 1, 1, 1,\n",
       "       1, 1, 1, 1, 1, 1, 1, 1, 1, 1, 1, 1, 1, 1, 1, 1, 1, 1, 1, 1, 1, 1,\n",
       "       1, 1, 1, 1, 1, 1, 1, 1, 1, 1, 1, 1, 1, 1, 1, 1, 1, 1, 1, 1, 1, 1,\n",
       "       1, 1, 1, 1, 1, 1, 1, 1, 1, 1, 1, 1, 1, 1, 1, 1, 1, 1, 1, 1, 1, 1,\n",
       "       1, 1, 1, 1, 1, 1, 1, 1, 1, 1, 1, 1, 1])"
      ]
     },
     "execution_count": 61,
     "metadata": {},
     "output_type": "execute_result"
    }
   ],
   "source": [
    "y_pred"
   ]
  },
  {
   "cell_type": "code",
   "execution_count": 62,
   "metadata": {},
   "outputs": [
    {
     "name": "stdout",
     "output_type": "stream",
     "text": [
      "Accuracy: 0.8410958904109589\n"
     ]
    }
   ],
   "source": [
    "print(\"Accuracy:\",metrics.accuracy_score(y_test, y_pred))"
   ]
  },
  {
   "cell_type": "code",
   "execution_count": 63,
   "metadata": {},
   "outputs": [
    {
     "name": "stdout",
     "output_type": "stream",
     "text": [
      "[[307   0]\n",
      " [ 58   0]]\n",
      "              precision    recall  f1-score   support\n",
      "\n",
      "           1       0.84      1.00      0.91       307\n",
      "           2       0.00      0.00      0.00        58\n",
      "\n",
      "    accuracy                           0.84       365\n",
      "   macro avg       0.42      0.50      0.46       365\n",
      "weighted avg       0.71      0.84      0.77       365\n",
      "\n",
      "0.8410958904109589\n"
     ]
    },
    {
     "name": "stderr",
     "output_type": "stream",
     "text": [
      "/Users/imrozmohiuddin/opt/anaconda3/lib/python3.7/site-packages/sklearn/metrics/_classification.py:1221: UndefinedMetricWarning: Precision and F-score are ill-defined and being set to 0.0 in labels with no predicted samples. Use `zero_division` parameter to control this behavior.\n",
      "  _warn_prf(average, modifier, msg_start, len(result))\n"
     ]
    }
   ],
   "source": [
    "print(confusion_matrix(y_test,y_pred))\n",
    "print(classification_report(y_test,y_pred))\n",
    "print(accuracy_score(y_test, y_pred))"
   ]
  },
  {
   "cell_type": "code",
   "execution_count": 64,
   "metadata": {},
   "outputs": [
    {
     "name": "stdout",
     "output_type": "stream",
     "text": [
      "Mean Absolute Error: 0.1589041095890411\n",
      "Mean Squared Error: 0.1589041095890411\n",
      "Root Mean Squared Error: 0.3986277832628342\n"
     ]
    }
   ],
   "source": [
    "print('Mean Absolute Error:', metrics.mean_absolute_error(y_test, y_pred))\n",
    "print('Mean Squared Error:', metrics.mean_squared_error(y_test, y_pred))\n",
    "print('Root Mean Squared Error:', np.sqrt(metrics.mean_squared_error(y_test, y_pred)))"
   ]
  },
  {
   "cell_type": "markdown",
   "metadata": {},
   "source": [
    "## Naïve Bayes"
   ]
  },
  {
   "cell_type": "code",
   "execution_count": 65,
   "metadata": {},
   "outputs": [],
   "source": [
    "model = GaussianNB()\n",
    "model.fit(x_train, y_train)\n",
    "\n",
    "y_pred = model.predict(x_test)"
   ]
  },
  {
   "cell_type": "code",
   "execution_count": 66,
   "metadata": {},
   "outputs": [
    {
     "data": {
      "text/plain": [
       "array([1, 1, 1, 1, 1, 1, 1, 1, 1, 1, 1, 1, 1, 1, 1, 1, 1, 1, 1, 1, 1, 1,\n",
       "       1, 1, 1, 1, 1, 1, 1, 1, 1, 2, 1, 1, 1, 1, 1, 1, 1, 1, 1, 1, 1, 1,\n",
       "       1, 1, 1, 1, 1, 1, 1, 1, 1, 1, 1, 1, 1, 1, 1, 1, 1, 1, 1, 1, 1, 1,\n",
       "       1, 1, 1, 1, 1, 1, 1, 1, 1, 1, 1, 1, 1, 1, 1, 1, 1, 1, 1, 1, 2, 1,\n",
       "       1, 1, 1, 1, 1, 1, 1, 1, 1, 1, 1, 1, 1, 1, 1, 1, 1, 1, 1, 1, 1, 1,\n",
       "       1, 1, 1, 1, 1, 1, 1, 1, 1, 1, 1, 1, 1, 1, 1, 1, 1, 1, 1, 1, 1, 1,\n",
       "       1, 1, 1, 1, 1, 1, 1, 1, 1, 1, 1, 1, 1, 1, 1, 1, 1, 1, 1, 1, 1, 1,\n",
       "       1, 1, 1, 1, 1, 2, 1, 1, 1, 1, 1, 1, 1, 1, 1, 1, 1, 1, 1, 1, 1, 1,\n",
       "       1, 1, 1, 1, 1, 1, 1, 1, 1, 1, 1, 1, 1, 1, 1, 1, 1, 1, 1, 1, 1, 1,\n",
       "       1, 1, 1, 1, 1, 1, 1, 1, 1, 1, 1, 1, 1, 1, 1, 1, 1, 1, 1, 1, 1, 1,\n",
       "       2, 1, 1, 1, 1, 1, 1, 1, 1, 1, 1, 1, 1, 1, 1, 1, 1, 1, 1, 1, 1, 1,\n",
       "       1, 1, 1, 1, 1, 1, 1, 1, 1, 1, 1, 1, 1, 1, 1, 1, 1, 1, 1, 1, 1, 1,\n",
       "       1, 1, 1, 1, 1, 1, 1, 1, 1, 1, 1, 1, 1, 1, 1, 1, 1, 1, 1, 1, 1, 1,\n",
       "       1, 1, 1, 1, 1, 1, 1, 1, 1, 1, 1, 1, 1, 1, 1, 1, 1, 2, 1, 1, 1, 1,\n",
       "       1, 1, 1, 1, 1, 1, 1, 1, 1, 1, 1, 1, 1, 1, 1, 1, 1, 1, 1, 1, 1, 1,\n",
       "       1, 1, 1, 1, 1, 1, 1, 1, 1, 1, 1, 1, 1, 1, 1, 1, 1, 1, 1, 1, 1, 1,\n",
       "       1, 1, 1, 1, 1, 1, 1, 1, 1, 1, 1, 1, 1])"
      ]
     },
     "execution_count": 66,
     "metadata": {},
     "output_type": "execute_result"
    }
   ],
   "source": [
    "y_pred"
   ]
  },
  {
   "cell_type": "code",
   "execution_count": 67,
   "metadata": {},
   "outputs": [
    {
     "name": "stdout",
     "output_type": "stream",
     "text": [
      "Accuracy: 0.8328767123287671\n"
     ]
    }
   ],
   "source": [
    "print(\"Accuracy:\",metrics.accuracy_score(y_test, y_pred))"
   ]
  },
  {
   "cell_type": "code",
   "execution_count": 68,
   "metadata": {},
   "outputs": [
    {
     "name": "stdout",
     "output_type": "stream",
     "text": [
      "[[303   4]\n",
      " [ 57   1]]\n",
      "              precision    recall  f1-score   support\n",
      "\n",
      "           1       0.84      0.99      0.91       307\n",
      "           2       0.20      0.02      0.03        58\n",
      "\n",
      "    accuracy                           0.83       365\n",
      "   macro avg       0.52      0.50      0.47       365\n",
      "weighted avg       0.74      0.83      0.77       365\n",
      "\n",
      "0.8328767123287671\n"
     ]
    }
   ],
   "source": [
    "print(confusion_matrix(y_test,y_pred))\n",
    "print(classification_report(y_test,y_pred))\n",
    "print(accuracy_score(y_test, y_pred))"
   ]
  },
  {
   "cell_type": "code",
   "execution_count": 69,
   "metadata": {},
   "outputs": [
    {
     "name": "stdout",
     "output_type": "stream",
     "text": [
      "Mean Absolute Error: 0.16712328767123288\n",
      "Mean Squared Error: 0.16712328767123288\n",
      "Root Mean Squared Error: 0.40880715217720065\n"
     ]
    }
   ],
   "source": [
    "print('Mean Absolute Error:', metrics.mean_absolute_error(y_test, y_pred))\n",
    "print('Mean Squared Error:', metrics.mean_squared_error(y_test, y_pred))\n",
    "print('Root Mean Squared Error:', np.sqrt(metrics.mean_squared_error(y_test, y_pred)))"
   ]
  },
  {
   "cell_type": "markdown",
   "metadata": {},
   "source": [
    "### From the above algorithms the random forest shows good results ( please find the find the elobrated explanation at random forest algorithm\n",
    "\n",
    "### As we can see there is lot of imbalance in the data like in target variable the default customers i.e 1 has 1047 rows and notdefault ie 2 has 176 rows, so we use some imbalance handaling for the data\n",
    "\n"
   ]
  },
  {
   "cell_type": "markdown",
   "metadata": {},
   "source": [
    "## Imbalance Handling:"
   ]
  },
  {
   "cell_type": "markdown",
   "metadata": {},
   "source": [
    "### Here i have used oversampling(Up sampling) for handling imbalance beacause in the given data set the rows are less so we cant use down sampling for less rows"
   ]
  },
  {
   "cell_type": "code",
   "execution_count": 70,
   "metadata": {},
   "outputs": [
    {
     "data": {
      "text/html": [
       "<div>\n",
       "<style scoped>\n",
       "    .dataframe tbody tr th:only-of-type {\n",
       "        vertical-align: middle;\n",
       "    }\n",
       "\n",
       "    .dataframe tbody tr th {\n",
       "        vertical-align: top;\n",
       "    }\n",
       "\n",
       "    .dataframe thead th {\n",
       "        text-align: right;\n",
       "    }\n",
       "</style>\n",
       "<table border=\"1\" class=\"dataframe\">\n",
       "  <thead>\n",
       "    <tr style=\"text-align: right;\">\n",
       "      <th></th>\n",
       "      <th>Var1</th>\n",
       "      <th>Var3</th>\n",
       "      <th>Var5</th>\n",
       "      <th>Var6</th>\n",
       "      <th>Var8</th>\n",
       "      <th>Var9</th>\n",
       "      <th>Var10</th>\n",
       "      <th>Var11</th>\n",
       "      <th>Var12</th>\n",
       "      <th>Var2_2</th>\n",
       "      <th>Var4_2.0</th>\n",
       "      <th>Var7_2</th>\n",
       "      <th>Var13_2</th>\n",
       "      <th>Var13_3</th>\n",
       "      <th>Var14_2.0</th>\n",
       "    </tr>\n",
       "    <tr>\n",
       "      <th>Target</th>\n",
       "      <th></th>\n",
       "      <th></th>\n",
       "      <th></th>\n",
       "      <th></th>\n",
       "      <th></th>\n",
       "      <th></th>\n",
       "      <th></th>\n",
       "      <th></th>\n",
       "      <th></th>\n",
       "      <th></th>\n",
       "      <th></th>\n",
       "      <th></th>\n",
       "      <th></th>\n",
       "      <th></th>\n",
       "      <th></th>\n",
       "    </tr>\n",
       "  </thead>\n",
       "  <tbody>\n",
       "    <tr>\n",
       "      <td>1</td>\n",
       "      <td>1039</td>\n",
       "      <td>1039</td>\n",
       "      <td>1039</td>\n",
       "      <td>1039</td>\n",
       "      <td>1039</td>\n",
       "      <td>1039</td>\n",
       "      <td>1039</td>\n",
       "      <td>1039</td>\n",
       "      <td>1039</td>\n",
       "      <td>1039</td>\n",
       "      <td>1039</td>\n",
       "      <td>1039</td>\n",
       "      <td>1039</td>\n",
       "      <td>1039</td>\n",
       "      <td>1039</td>\n",
       "    </tr>\n",
       "    <tr>\n",
       "      <td>2</td>\n",
       "      <td>176</td>\n",
       "      <td>176</td>\n",
       "      <td>176</td>\n",
       "      <td>176</td>\n",
       "      <td>176</td>\n",
       "      <td>176</td>\n",
       "      <td>176</td>\n",
       "      <td>176</td>\n",
       "      <td>176</td>\n",
       "      <td>176</td>\n",
       "      <td>176</td>\n",
       "      <td>176</td>\n",
       "      <td>176</td>\n",
       "      <td>176</td>\n",
       "      <td>176</td>\n",
       "    </tr>\n",
       "  </tbody>\n",
       "</table>\n",
       "</div>"
      ],
      "text/plain": [
       "        Var1  Var3  Var5  Var6  Var8  Var9  Var10  Var11  Var12  Var2_2  \\\n",
       "Target                                                                    \n",
       "1       1039  1039  1039  1039  1039  1039   1039   1039   1039    1039   \n",
       "2        176   176   176   176   176   176    176    176    176     176   \n",
       "\n",
       "        Var4_2.0  Var7_2  Var13_2  Var13_3  Var14_2.0  \n",
       "Target                                                 \n",
       "1           1039    1039     1039     1039       1039  \n",
       "2            176     176      176      176        176  "
      ]
     },
     "execution_count": 70,
     "metadata": {},
     "output_type": "execute_result"
    }
   ],
   "source": [
    "df.groupby(['Target']).count()"
   ]
  },
  {
   "cell_type": "code",
   "execution_count": 71,
   "metadata": {},
   "outputs": [],
   "source": [
    "# Implementing Oversampling for Handling Imbalanced \n",
    "smk = SMOTETomek(random_state=30)\n",
    "X_res,y_res=smk.fit_sample(features,target)"
   ]
  },
  {
   "cell_type": "code",
   "execution_count": 72,
   "metadata": {},
   "outputs": [
    {
     "data": {
      "text/plain": [
       "((2070, 15), (2070,))"
      ]
     },
     "execution_count": 72,
     "metadata": {},
     "output_type": "execute_result"
    }
   ],
   "source": [
    "X_res.shape,y_res.shape"
   ]
  },
  {
   "cell_type": "code",
   "execution_count": 73,
   "metadata": {},
   "outputs": [],
   "source": [
    "x_train_res, x_test_res, y_train_res, y_test_res = train_test_split(X_res, y_res, test_size=0.3)"
   ]
  },
  {
   "cell_type": "code",
   "execution_count": 74,
   "metadata": {},
   "outputs": [
    {
     "name": "stdout",
     "output_type": "stream",
     "text": [
      "(1449, 15) (1449,)\n",
      "(621, 15) (621,)\n"
     ]
    }
   ],
   "source": [
    "print (x_train_res.shape, y_train_res.shape)\n",
    "print (x_test_res.shape, y_test_res.shape)"
   ]
  },
  {
   "cell_type": "code",
   "execution_count": 75,
   "metadata": {},
   "outputs": [],
   "source": [
    "clf=RandomForestClassifier()\n",
    "clf.fit(x_train_res,y_train_res)\n",
    "\n",
    "y_pred_res=clf.predict(x_test_res)"
   ]
  },
  {
   "cell_type": "code",
   "execution_count": 76,
   "metadata": {},
   "outputs": [
    {
     "data": {
      "text/plain": [
       "array([1, 1, 2, 1, 1, 1, 2, 1, 1, 2, 1, 1, 1, 2, 1, 2, 2, 1, 2, 1, 2, 2,\n",
       "       1, 2, 1, 2, 1, 2, 1, 1, 1, 1, 2, 1, 2, 2, 2, 1, 1, 2, 2, 2, 2, 2,\n",
       "       2, 1, 1, 2, 2, 2, 1, 1, 2, 1, 1, 2, 2, 2, 1, 1, 1, 2, 1, 2, 1, 1,\n",
       "       2, 2, 1, 2, 1, 1, 1, 1, 1, 1, 1, 2, 2, 1, 1, 2, 1, 1, 1, 1, 1, 1,\n",
       "       2, 1, 1, 2, 2, 1, 2, 1, 1, 2, 2, 2, 1, 2, 2, 1, 1, 1, 2, 1, 1, 2,\n",
       "       2, 1, 2, 2, 1, 1, 2, 1, 1, 1, 1, 1, 2, 1, 1, 1, 1, 2, 1, 1, 1, 1,\n",
       "       1, 2, 1, 2, 1, 2, 2, 2, 1, 1, 2, 1, 2, 2, 1, 2, 1, 1, 2, 1, 1, 1,\n",
       "       2, 2, 1, 1, 1, 2, 2, 1, 1, 2, 1, 2, 2, 2, 1, 2, 1, 2, 2, 2, 2, 1,\n",
       "       2, 1, 1, 2, 1, 2, 2, 2, 2, 1, 2, 2, 1, 2, 1, 1, 1, 2, 1, 2, 2, 2,\n",
       "       2, 2, 1, 1, 2, 1, 2, 1, 1, 1, 2, 1, 2, 2, 2, 2, 1, 1, 2, 2, 1, 1,\n",
       "       2, 2, 2, 2, 1, 1, 1, 2, 2, 1, 1, 1, 1, 1, 1, 1, 1, 2, 2, 2, 2, 1,\n",
       "       2, 2, 2, 1, 1, 2, 1, 2, 2, 1, 2, 2, 2, 1, 1, 2, 2, 2, 1, 1, 2, 1,\n",
       "       2, 1, 2, 2, 2, 1, 1, 2, 1, 1, 2, 1, 2, 1, 1, 1, 1, 1, 1, 1, 1, 1,\n",
       "       1, 2, 2, 2, 1, 1, 1, 1, 1, 1, 2, 1, 1, 1, 1, 1, 2, 2, 1, 2, 1, 1,\n",
       "       2, 1, 1, 1, 2, 1, 1, 1, 2, 1, 1, 2, 1, 2, 2, 1, 2, 1, 2, 1, 1, 1,\n",
       "       1, 1, 1, 1, 1, 1, 1, 2, 1, 1, 2, 2, 1, 1, 1, 1, 2, 1, 2, 1, 2, 1,\n",
       "       1, 1, 2, 2, 1, 2, 2, 1, 2, 1, 1, 1, 1, 1, 1, 2, 2, 2, 1, 2, 1, 2,\n",
       "       1, 2, 2, 2, 2, 1, 1, 1, 2, 1, 1, 1, 1, 2, 1, 1, 2, 1, 1, 1, 1, 1,\n",
       "       1, 2, 1, 2, 2, 2, 2, 2, 1, 1, 2, 2, 2, 1, 2, 1, 2, 1, 2, 1, 2, 2,\n",
       "       1, 1, 2, 1, 1, 1, 2, 1, 2, 1, 2, 2, 1, 1, 1, 2, 2, 1, 2, 1, 1, 1,\n",
       "       2, 1, 1, 1, 2, 2, 2, 2, 1, 1, 2, 1, 1, 1, 2, 1, 2, 2, 2, 1, 1, 2,\n",
       "       1, 1, 1, 2, 2, 1, 2, 1, 1, 2, 1, 1, 1, 1, 2, 1, 1, 1, 1, 2, 1, 1,\n",
       "       1, 1, 1, 1, 2, 2, 1, 1, 2, 1, 1, 2, 1, 1, 2, 2, 2, 2, 1, 2, 1, 2,\n",
       "       1, 2, 2, 1, 2, 1, 2, 1, 2, 1, 1, 2, 1, 2, 2, 1, 1, 1, 1, 2, 2, 1,\n",
       "       1, 2, 1, 1, 2, 1, 1, 1, 1, 2, 2, 2, 2, 2, 1, 2, 2, 2, 1, 1, 1, 2,\n",
       "       1, 1, 2, 1, 2, 1, 1, 2, 1, 1, 2, 1, 2, 1, 1, 1, 2, 1, 1, 1, 2, 2,\n",
       "       2, 1, 1, 1, 2, 1, 2, 2, 1, 2, 1, 1, 1, 2, 2, 2, 2, 1, 2, 1, 1, 1,\n",
       "       2, 1, 2, 1, 2, 2, 1, 2, 1, 1, 1, 1, 1, 1, 1, 2, 2, 2, 1, 1, 2, 1,\n",
       "       1, 1, 1, 2, 1])"
      ]
     },
     "execution_count": 76,
     "metadata": {},
     "output_type": "execute_result"
    }
   ],
   "source": [
    "y_pred_res"
   ]
  },
  {
   "cell_type": "code",
   "execution_count": 77,
   "metadata": {},
   "outputs": [
    {
     "name": "stdout",
     "output_type": "stream",
     "text": [
      "Accuracy: 0.895330112721417\n"
     ]
    }
   ],
   "source": [
    "print(\"Accuracy:\",metrics.accuracy_score(y_test_res, y_pred_res))"
   ]
  },
  {
   "cell_type": "code",
   "execution_count": 78,
   "metadata": {
    "scrolled": true
   },
   "outputs": [
    {
     "name": "stdout",
     "output_type": "stream",
     "text": [
      "[[305  16]\n",
      " [ 49 251]]\n",
      "              precision    recall  f1-score   support\n",
      "\n",
      "           1       0.86      0.95      0.90       321\n",
      "           2       0.94      0.84      0.89       300\n",
      "\n",
      "    accuracy                           0.90       621\n",
      "   macro avg       0.90      0.89      0.89       621\n",
      "weighted avg       0.90      0.90      0.89       621\n",
      "\n",
      "0.895330112721417\n",
      "Mean Absolute Error: 0.10466988727858294\n",
      "Mean Squared Error: 0.10466988727858294\n",
      "Root Mean Squared Error: 0.3235272589420912\n"
     ]
    }
   ],
   "source": [
    "print(confusion_matrix(y_test_res, y_pred_res))\n",
    "print(classification_report(y_test_res, y_pred_res))\n",
    "print(accuracy_score(y_test_res, y_pred_res))\n",
    "print('Mean Absolute Error:', metrics.mean_absolute_error(y_test_res, y_pred_res))\n",
    "print('Mean Squared Error:', metrics.mean_squared_error(y_test_res, y_pred_res))\n",
    "print('Root Mean Squared Error:', np.sqrt(metrics.mean_squared_error(y_test_res, y_pred_res)))"
   ]
  },
  {
   "cell_type": "markdown",
   "metadata": {},
   "source": [
    "### As per the results after the imbalance handling the accuray is now at 89% and the model is performing well now"
   ]
  },
  {
   "cell_type": "markdown",
   "metadata": {},
   "source": [
    "## Hyperparameter Tuning"
   ]
  },
  {
   "cell_type": "code",
   "execution_count": 79,
   "metadata": {},
   "outputs": [
    {
     "name": "stdout",
     "output_type": "stream",
     "text": [
      "Parameters currently in use:\n",
      "\n",
      "{'bootstrap': True,\n",
      " 'ccp_alpha': 0.0,\n",
      " 'class_weight': None,\n",
      " 'criterion': 'gini',\n",
      " 'max_depth': None,\n",
      " 'max_features': 'auto',\n",
      " 'max_leaf_nodes': None,\n",
      " 'max_samples': None,\n",
      " 'min_impurity_decrease': 0.0,\n",
      " 'min_impurity_split': None,\n",
      " 'min_samples_leaf': 1,\n",
      " 'min_samples_split': 2,\n",
      " 'min_weight_fraction_leaf': 0.0,\n",
      " 'n_estimators': 100,\n",
      " 'n_jobs': None,\n",
      " 'oob_score': False,\n",
      " 'random_state': None,\n",
      " 'verbose': 0,\n",
      " 'warm_start': False}\n"
     ]
    }
   ],
   "source": [
    "# Look at parameters used by our current forest\n",
    "print('Parameters currently in use:\\n')\n",
    "pprint(clf.get_params())"
   ]
  },
  {
   "cell_type": "code",
   "execution_count": 80,
   "metadata": {},
   "outputs": [
    {
     "name": "stdout",
     "output_type": "stream",
     "text": [
      "[1 1 2 1 1 1 2 1 1 2 1 1 1 2 1 2 2 1 2 1 2 2 1 2 1 2 1 2 1 1 1 1 2 1 2 2 2\n",
      " 1 1 2 2 2 2 2 2 1 1 2 2 2 1 1 2 1 1 2 2 2 2 1 1 2 1 2 1 1 1 2 1 2 1 1 1 1\n",
      " 1 1 1 2 2 1 1 2 1 1 1 1 1 1 2 1 1 2 2 1 2 1 1 2 2 2 1 2 2 1 1 1 2 1 1 2 2\n",
      " 1 2 2 1 1 1 1 1 1 1 1 2 1 1 1 1 2 1 1 1 2 1 2 1 2 1 2 2 2 1 1 2 1 2 2 1 1\n",
      " 1 1 2 1 1 1 2 2 1 1 1 2 2 1 1 2 1 2 2 2 1 2 1 2 2 2 2 1 1 1 1 2 1 2 2 2 2\n",
      " 1 2 2 1 2 1 1 1 2 1 2 2 2 2 1 1 1 2 1 2 1 1 1 2 1 2 2 2 2 1 1 2 2 1 1 2 2\n",
      " 2 2 1 1 1 1 2 1 1 1 1 1 1 1 1 2 2 2 2 1 2 2 2 1 1 2 2 2 2 1 2 2 2 1 1 2 2\n",
      " 2 1 1 2 1 2 1 2 2 2 1 1 2 1 1 2 1 2 1 1 1 1 1 1 1 2 1 1 2 2 2 2 1 1 1 1 1\n",
      " 2 1 1 1 1 1 2 2 1 2 1 1 2 1 1 1 2 1 1 1 2 1 1 2 1 2 2 1 2 1 2 1 1 1 1 1 1\n",
      " 1 1 1 1 2 1 1 2 2 1 1 1 1 2 1 2 1 2 1 1 1 2 2 1 2 2 1 2 1 1 1 1 1 1 2 2 2\n",
      " 1 2 1 2 1 2 2 2 1 1 1 1 2 1 1 1 1 2 1 1 2 1 1 1 1 2 1 2 1 2 2 2 2 2 1 1 2\n",
      " 2 2 1 2 1 2 1 2 1 2 2 1 2 2 1 1 1 2 1 2 1 2 2 1 1 1 2 2 1 2 1 1 1 2 1 1 1\n",
      " 2 2 2 2 1 1 2 1 1 1 2 1 2 2 2 1 1 2 1 1 1 2 2 1 2 1 1 2 1 1 1 1 2 1 1 1 1\n",
      " 2 2 1 1 1 1 1 2 2 1 1 2 1 1 2 1 1 2 2 2 2 1 2 1 2 1 2 1 1 2 1 2 1 2 1 1 2\n",
      " 1 2 2 1 1 1 1 2 2 1 2 2 1 1 2 1 1 1 1 2 2 2 2 2 1 2 2 2 1 1 1 2 1 1 2 1 2\n",
      " 1 1 2 1 1 2 1 2 1 1 1 2 1 1 1 2 2 2 1 1 1 2 1 2 2 1 2 1 1 1 2 2 2 2 1 2 1\n",
      " 1 1 2 1 2 1 2 2 1 2 1 2 1 1 1 1 1 2 2 1 1 1 2 1 1 1 1 2 1]\n",
      "Accuracy: 0.893719806763285\n",
      "[[304  17]\n",
      " [ 49 251]]\n",
      "              precision    recall  f1-score   support\n",
      "\n",
      "           1       0.86      0.95      0.90       321\n",
      "           2       0.94      0.84      0.88       300\n",
      "\n",
      "    accuracy                           0.89       621\n",
      "   macro avg       0.90      0.89      0.89       621\n",
      "weighted avg       0.90      0.89      0.89       621\n",
      "\n",
      "0.893719806763285\n",
      "Mean Absolute Error: 0.10628019323671498\n",
      "Mean Squared Error: 0.10628019323671498\n",
      "Root Mean Squared Error: 0.3260064312812172\n"
     ]
    }
   ],
   "source": [
    "clf=RandomForestClassifier(random_state=42)\n",
    "clf.fit(x_train_res,y_train_res)\n",
    "\n",
    "y_pred_res=clf.predict(x_test_res)\n",
    "\n",
    "print(y_pred_res)\n",
    "\n",
    "print(\"Accuracy:\",metrics.accuracy_score(y_test_res, y_pred_res))\n",
    "\n",
    "print(confusion_matrix(y_test_res, y_pred_res))\n",
    "print(classification_report(y_test_res, y_pred_res))\n",
    "print(accuracy_score(y_test_res, y_pred_res))\n",
    "print('Mean Absolute Error:', metrics.mean_absolute_error(y_test_res, y_pred_res))\n",
    "print('Mean Squared Error:', metrics.mean_squared_error(y_test_res, y_pred_res))\n",
    "print('Root Mean Squared Error:', np.sqrt(metrics.mean_squared_error(y_test_res, y_pred_res)))"
   ]
  },
  {
   "cell_type": "markdown",
   "metadata": {},
   "source": [
    "### Why  random_state=42 is because see this  https://www.independent.co.uk/life-style/history/42-the-answer-to-life-the-universe-and-everything-2205734.html article"
   ]
  },
  {
   "cell_type": "markdown",
   "metadata": {},
   "source": [
    "### Besides that the model performace is actually good"
   ]
  },
 ],
 "metadata": {
  "kernelspec": {
   "display_name": "Python 3",
   "language": "python",
   "name": "python3"
  },
  "language_info": {
   "codemirror_mode": {
    "name": "ipython",
    "version": 3
   },
   "file_extension": ".py",
   "mimetype": "text/x-python",
   "name": "python",
   "nbconvert_exporter": "python",
   "pygments_lexer": "ipython3",
   "version": "3.7.4"
  }
 },
 "nbformat": 4,
 "nbformat_minor": 2
}
